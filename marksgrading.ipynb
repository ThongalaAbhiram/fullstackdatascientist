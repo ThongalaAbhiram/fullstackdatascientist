{
 "cells": [
  {
   "cell_type": "code",
   "execution_count": 3,
   "id": "88d6038a",
   "metadata": {},
   "outputs": [
    {
     "name": "stdout",
     "output_type": "stream",
     "text": [
      "C\n"
     ]
    }
   ],
   "source": [
    "marks=int(input(\"Enter marks: \"))\n",
    "if marks>=90:\n",
    "    print(\"A\")\n",
    "elif marks>=75 and marks<90:\n",
    "    print(\"B\")\n",
    "elif marks>=50 and marks<75:\n",
    "    print(\"C\")\n",
    "elif marks<50:\n",
    "    print(\"F\")\n"
   ]
  }
 ],
 "metadata": {
  "kernelspec": {
   "display_name": "venv",
   "language": "python",
   "name": "python3"
  },
  "language_info": {
   "codemirror_mode": {
    "name": "ipython",
    "version": 3
   },
   "file_extension": ".py",
   "mimetype": "text/x-python",
   "name": "python",
   "nbconvert_exporter": "python",
   "pygments_lexer": "ipython3",
   "version": "3.11.0"
  }
 },
 "nbformat": 4,
 "nbformat_minor": 5
}
