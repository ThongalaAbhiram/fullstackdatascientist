{
 "cells": [
  {
   "cell_type": "code",
   "execution_count": 1,
   "id": "06ad90b9",
   "metadata": {},
   "outputs": [
    {
     "name": "stdout",
     "output_type": "stream",
     "text": [
      "Uppercase letters: 13\n",
      "Lowercase letters: 13\n"
     ]
    }
   ],
   "source": [
    "upper=\"ABCDEFGHIJKLMNOPQRSTUVWXYZ\"\n",
    "lower=\"abcdefghijklmnopqrstuvwxyz\"\n",
    "str=input(\"Enter a string: \")\n",
    "count_upper=0\n",
    "count_lower=0\n",
    "for i in str:\n",
    "    if i in upper:\n",
    "        count_upper+=1\n",
    "    elif i in lower:\n",
    "        count_lower+=1\n",
    "print(\"Uppercase letters:\",count_upper)\n",
    "print(\"Lowercase letters:\",count_lower)"
   ]
  }
 ],
 "metadata": {
  "kernelspec": {
   "display_name": "venv",
   "language": "python",
   "name": "python3"
  },
  "language_info": {
   "codemirror_mode": {
    "name": "ipython",
    "version": 3
   },
   "file_extension": ".py",
   "mimetype": "text/x-python",
   "name": "python",
   "nbconvert_exporter": "python",
   "pygments_lexer": "ipython3",
   "version": "3.11.0"
  }
 },
 "nbformat": 4,
 "nbformat_minor": 5
}
