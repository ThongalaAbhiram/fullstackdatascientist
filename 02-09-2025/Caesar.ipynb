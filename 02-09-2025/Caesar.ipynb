{
 "cells": [
  {
   "cell_type": "code",
   "execution_count": null,
   "id": "2e9cece4",
   "metadata": {},
   "outputs": [],
   "source": [
    "message = input(\"Enter Message: \")\n",
    "shift = int(input(\"Enter Shift: \"))\n",
    "encrypted = \"\"\n",
    "for ch in message:\n",
    "    if ch.isalpha():\n",
    "        base = ord('A') if ch.isupper() else ord('a')\n",
    "        encrypted += chr((ord(ch) - base + shift) % 26 + base)\n",
    "    else:\n",
    "        encrypted += ch\n",
    "print(\"Encrypted Message:\", encrypted)\n"
   ]
  }
 ],
 "metadata": {
  "language_info": {
   "name": "python"
  }
 },
 "nbformat": 4,
 "nbformat_minor": 5
}
