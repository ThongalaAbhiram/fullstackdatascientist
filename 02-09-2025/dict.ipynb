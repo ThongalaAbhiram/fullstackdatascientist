{
 "cells": [
  {
   "cell_type": "code",
   "execution_count": null,
   "id": "87a18217",
   "metadata": {},
   "outputs": [],
   "source": [
    "phonebook = {}\n",
    "for i in range(3):\n",
    "    name = input(f\"Enter name {i+1}: \")\n",
    "    number = int(input(f\"Enter phone number for {name}: \"))\n",
    "    phonebook[name] = number\n",
    "print(\"\\nPhonebook created successfully!\")\n",
    "print(phonebook)\n",
    "search_name = input(\"\\nEnter name to search: \")\n",
    "if search_name in phonebook:\n",
    "    print(f\"Phone Number of {search_name}: {phonebook[search_name]}\")\n",
    "else:\n",
    "    print(\"Name not found in phonebook.\")"
   ]
  }
 ],
 "metadata": {
  "kernelspec": {
   "display_name": "Python 3",
   "language": "python",
   "name": "python3"
  },
  "language_info": {
   "codemirror_mode": {
    "name": "ipython",
    "version": 3
   },
   "file_extension": ".py",
   "mimetype": "text/x-python",
   "name": "python",
   "nbconvert_exporter": "python",
   "pygments_lexer": "ipython3",
   "version": "3.11.0"
  }
 },
 "nbformat": 4,
 "nbformat_minor": 5
}
