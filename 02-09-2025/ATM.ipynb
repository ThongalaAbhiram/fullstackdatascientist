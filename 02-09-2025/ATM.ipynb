{
 "cells": [
  {
   "cell_type": "code",
   "execution_count": null,
   "id": "358e3099",
   "metadata": {},
   "outputs": [],
   "source": [
    "pin = 1234\n",
    "balance = 5000\n",
    "user_pin = int(input(\"Enter PIN: \"))\n",
    "if user_pin == pin:\n",
    "    print(\"PIN Verified.\")\n",
    "    withdraw = int(input(\"Enter amount to withdraw: \"))\n",
    "    if withdraw <= balance:\n",
    "        balance -= withdraw\n",
    "        print(f\"Withdrawal Successful. Remaining Balance = {balance}\")\n",
    "    else:\n",
    "        print(\"Insufficient Balance\")\n",
    "else:\n",
    "    print(\"Invalid PIN\")\n"
   ]
  }
 ],
 "metadata": {
  "language_info": {
   "name": "python"
  }
 },
 "nbformat": 4,
 "nbformat_minor": 5
}
