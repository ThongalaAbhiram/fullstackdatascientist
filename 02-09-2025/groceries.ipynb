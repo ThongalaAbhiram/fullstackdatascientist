{
 "cells": [
  {
   "cell_type": "code",
   "execution_count": 1,
   "id": "ad47b41d",
   "metadata": {},
   "outputs": [
    {
     "name": "stdout",
     "output_type": "stream",
     "text": [
      "Total Bill = 310\n"
     ]
    }
   ],
   "source": [
    "\n",
    "item1 = 50\n",
    "quantity1 = 2\n",
    "\n",
    "item2 = 30\n",
    "quantity2 = 5\n",
    "\n",
    "item3 = 20\n",
    "quantity3 = 3\n",
    "\n",
    "total_bill = (item1 * quantity1) + (item2 *quantity2) + (item3 * quantity3)\n",
    "print(\"Total Bill =\", total_bill)\n"
   ]
  }
 ],
 "metadata": {
  "kernelspec": {
   "display_name": "Python 3",
   "language": "python",
   "name": "python3"
  },
  "language_info": {
   "codemirror_mode": {
    "name": "ipython",
    "version": 3
   },
   "file_extension": ".py",
   "mimetype": "text/x-python",
   "name": "python",
   "nbconvert_exporter": "python",
   "pygments_lexer": "ipython3",
   "version": "3.11.0"
  }
 },
 "nbformat": 4,
 "nbformat_minor": 5
}
