{
 "cells": [
  {
   "cell_type": "code",
   "execution_count": 1,
   "id": "18824076",
   "metadata": {},
   "outputs": [
    {
     "name": "stdout",
     "output_type": "stream",
     "text": [
      "Grade: A (Excellent)\n"
     ]
    }
   ],
   "source": [
    "marks = int(input(\"Enter marks: \"))\n",
    "if marks >= 90:\n",
    "    grade = \"A+ (Outstanding)\"\n",
    "elif marks >= 80:\n",
    "    grade = \"A (Excellent)\"\n",
    "elif marks >= 70:\n",
    "    grade = \"B (Good)\"\n",
    "elif marks >= 60:\n",
    "    grade = \"C (Average)\"\n",
    "else:\n",
    "    grade = \"Fail\"\n",
    "print(\"Grade:\", grade)\n"
   ]
  }
 ],
 "metadata": {
  "kernelspec": {
   "display_name": "Python 3",
   "language": "python",
   "name": "python3"
  },
  "language_info": {
   "codemirror_mode": {
    "name": "ipython",
    "version": 3
   },
   "file_extension": ".py",
   "mimetype": "text/x-python",
   "name": "python",
   "nbconvert_exporter": "python",
   "pygments_lexer": "ipython3",
   "version": "3.11.0"
  }
 },
 "nbformat": 4,
 "nbformat_minor": 5
}
