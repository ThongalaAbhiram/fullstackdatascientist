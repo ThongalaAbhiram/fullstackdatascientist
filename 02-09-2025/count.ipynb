{
 "cells": [
  {
   "cell_type": "code",
   "execution_count": null,
   "id": "dc94ecd9",
   "metadata": {},
   "outputs": [],
   "source": [
    "sentence = input(\"Enter sentence: \")\n",
    "words = sentence.split()\n",
    "word_count = len(words)\n",
    "char_count = len(sentence)\n",
    "vowels = \"aeiouAEIOU\"\n",
    "vowel_count = 0\n",
    "for ch in sentence:\n",
    "    if ch in vowels:\n",
    "        vowel_count += 1\n",
    "print(\"Total Words =\", word_count)\n",
    "print(\"Total Characters =\", char_count)\n",
    "print(\"Total Vowels =\", vowel_count)\n"
   ]
  }
 ],
 "metadata": {
  "language_info": {
   "name": "python"
  }
 },
 "nbformat": 4,
 "nbformat_minor": 5
}
