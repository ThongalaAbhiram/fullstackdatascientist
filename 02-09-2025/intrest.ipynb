{
 "cells": [
  {
   "cell_type": "code",
   "execution_count": null,
   "id": "7ca26b1e",
   "metadata": {},
   "outputs": [],
   "source": [
    "principal = float(input(\"Enter Principal: \"))\n",
    "rate = float(input(\"Enter Rate of Interest: \"))\n",
    "time = float(input(\"Enter Time (in years): \"))\n",
    "interest_type = input(\"Enter Interest Type (Simple/Compound): \").strip().lower()\n",
    "if interest_type == \"simple\":\n",
    "    interest = (principal * rate * time) / 100\n",
    "    total_amount = principal + interest\n",
    "    print(f\"Simple Interest = {interest:.2f}\")\n",
    "    print(f\"Total Amount = {total_amount:.2f}\")\n",
    "elif interest_type == \"compound\":\n",
    "    total_amount = principal * ((1 + rate / 100) ** time)\n",
    "    interest = total_amount - principal\n",
    "    print(f\"Compound Interest = {interest:.2f}\")\n",
    "    print(f\"Total Amount = {total_amount:.2f}\")\n",
    "else:\n",
    "    print(\"Invalid Interest Type! Please enter 'Simple' or 'Compound'.\")\n"
   ]
  }
 ],
 "metadata": {
  "language_info": {
   "name": "python"
  }
 },
 "nbformat": 4,
 "nbformat_minor": 5
}
