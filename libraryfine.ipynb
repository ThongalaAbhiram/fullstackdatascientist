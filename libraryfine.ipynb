{
 "cells": [
  {
   "cell_type": "code",
   "execution_count": 1,
   "id": "04a0dcb1",
   "metadata": {},
   "outputs": [
    {
     "name": "stdout",
     "output_type": "stream",
     "text": [
      "Fine is 100\n"
     ]
    }
   ],
   "source": [
    "late_days=int(input(\"Enter number of days late: \"))\n",
    "if late_days>1 and late_days<=5:\n",
    "    print(\"Fine is 10\")\n",
    "elif late_days>5 and late_days<=10:\n",
    "    print(\"Fine is 50\")\n",
    "elif late_days>10:\n",
    "    print(\"Fine is 100\")\n",
    "else:\n",
    "    print(\"No fine\")\n"
   ]
  }
 ],
 "metadata": {
  "kernelspec": {
   "display_name": "venv",
   "language": "python",
   "name": "python3"
  },
  "language_info": {
   "codemirror_mode": {
    "name": "ipython",
    "version": 3
   },
   "file_extension": ".py",
   "mimetype": "text/x-python",
   "name": "python",
   "nbconvert_exporter": "python",
   "pygments_lexer": "ipython3",
   "version": "3.11.0"
  }
 },
 "nbformat": 4,
 "nbformat_minor": 5
}
