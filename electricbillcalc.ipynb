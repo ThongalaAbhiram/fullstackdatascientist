{
 "cells": [
  {
   "cell_type": "code",
   "execution_count": 1,
   "id": "15758321",
   "metadata": {},
   "outputs": [
    {
     "name": "stdout",
     "output_type": "stream",
     "text": [
      "Amount to pay: 4200\n"
     ]
    }
   ],
   "source": [
    "units=int(input(\"Enter number of units: \"))\n",
    "if units<=100:\n",
    "    print(\"Amount to pay:\",units*5)\n",
    "elif units>100 and units<=200:\n",
    "    print(\"Amount to pay:\",100*5+(units-100)*7)\n",
    "elif units>200:\n",
    "    print(\"Amount to pay:\",100*5+100*7+(units-200)*10)\n"
   ]
  }
 ],
 "metadata": {
  "kernelspec": {
   "display_name": "venv",
   "language": "python",
   "name": "python3"
  },
  "language_info": {
   "codemirror_mode": {
    "name": "ipython",
    "version": 3
   },
   "file_extension": ".py",
   "mimetype": "text/x-python",
   "name": "python",
   "nbconvert_exporter": "python",
   "pygments_lexer": "ipython3",
   "version": "3.11.0"
  }
 },
 "nbformat": 4,
 "nbformat_minor": 5
}
