{
 "cells": [
  {
   "cell_type": "code",
   "execution_count": 3,
   "metadata": {},
   "outputs": [
    {
     "name": "stdout",
     "output_type": "stream",
     "text": [
      "Number1:  22 Number2:  12\n",
      "After swapping:\n",
      "Number1:  12 Number2:  22\n"
     ]
    }
   ],
   "source": [
    "num1 = int(input(\"Enter first number: \"))\n",
    "num2 = int(input(\"Enter second number: \"))\n",
    "\n",
    "print(\"Number1: \", num1 ,\"Number2: \" , num2)\n",
    "\n",
    "num1 = num1+num2\n",
    "num2 = num1-num2\n",
    "num1 = num1-num2\n",
    "\n",
    "print(\"After swapping:\")\n",
    "print(\"Number1: \", num1 ,\"Number2: \" , num2)"
   ]
  },
  {
   "cell_type": "code",
   "execution_count": 7,
   "metadata": {},
   "outputs": [
    {
     "name": "stdout",
     "output_type": "stream",
     "text": [
      "kihsuok"
     ]
    }
   ],
   "source": [
    "str = input()\n",
    "for i in range(len(str)-1, -1, -1):\n",
    "    print(str[i], end=\"\")"
   ]
  },
  {
   "cell_type": "code",
   "execution_count": 13,
   "metadata": {},
   "outputs": [
    {
     "name": "stdout",
     "output_type": "stream",
     "text": [
      "Armstrong number\n"
     ]
    }
   ],
   "source": [
    "amnum = int(input(\"Enter a number: \"))\n",
    "su = 0\n",
    "re = amnum\n",
    "while amnum > 0:\n",
    "    digit = amnum % 10\n",
    "    su += digit ** 3\n",
    "    amnum //= 10\n",
    "if su == re:\n",
    "    print(\"Armstrong number\")\n",
    "else:\n",
    "    print(\"Not an Armstrong number\")"
   ]
  },
  {
   "cell_type": "code",
   "execution_count": 15,
   "metadata": {},
   "outputs": [
    {
     "name": "stdout",
     "output_type": "stream",
     "text": [
      "vowels:  11\n",
      "consonants:  19\n"
     ]
    }
   ],
   "source": [
    "str = input(\"Enter a string: \")\n",
    "vowels = 0\n",
    "consonants = 0\n",
    "for char in str:\n",
    "    if char.isalpha():\n",
    "        if char.lower() in 'aeiou':\n",
    "            vowels += 1\n",
    "        else:\n",
    "            consonants += 1\n",
    "print(\"vowels: \", vowels)\n",
    "print(\"consonants: \", consonants)"
   ]
  },
  {
   "cell_type": "code",
   "execution_count": 16,
   "metadata": {},
   "outputs": [
    {
     "name": "stdout",
     "output_type": "stream",
     "text": [
      "17 x 1 = 17\n",
      "17 x 2 = 34\n",
      "17 x 3 = 51\n",
      "17 x 4 = 68\n",
      "17 x 5 = 85\n",
      "17 x 6 = 102\n",
      "17 x 7 = 119\n",
      "17 x 8 = 136\n",
      "17 x 9 = 153\n",
      "17 x 10 = 170\n"
     ]
    }
   ],
   "source": [
    "val = int(input(\"Enter Number: \"))\n",
    "for i in range(1, 11):\n",
    "    print(val, 'x', i, '=', val * i)\n"
   ]
  },
  {
   "cell_type": "code",
   "execution_count": 18,
   "metadata": {},
   "outputs": [
    {
     "name": "stdout",
     "output_type": "stream",
     "text": [
      "400 is a leap year\n"
     ]
    }
   ],
   "source": [
    "yr = int(input(\"Enter Number: \"))\n",
    "if yr%400 == 0:\n",
    "    print(yr, \"is a leap year\")\n",
    "elif yr%100 == 0:\n",
    "    print(yr, \"is not a leap year\")\n",
    "elif yr%4 == 0:\n",
    "    print(yr, \"is a leap year\")\n",
    "else:\n",
    "    print(yr, \"is not a leap year\")"
   ]
  },
  {
   "cell_type": "code",
   "execution_count": 24,
   "metadata": {},
   "outputs": [
    {
     "name": "stdout",
     "output_type": "stream",
     "text": [
      "Maximum score:  67\n"
     ]
    }
   ],
   "source": [
    "score = list(map(int, input(\"Enter Number: \").split(\",\")))\n",
    "print(\"Maximum score: \", max(score))\n"
   ]
  },
  {
   "cell_type": "code",
   "execution_count": 25,
   "metadata": {},
   "outputs": [
    {
     "name": "stdout",
     "output_type": "stream",
     "text": [
      "Reversed string:  madam\n",
      "Palindrome\n"
     ]
    }
   ],
   "source": [
    "str = input(\"string: \")\n",
    "restr = \"\"\n",
    "for i in range(len(str)-1, -1, -1):\n",
    "    restr = restr + str[i]\n",
    "print(\"Reversed string: \", restr)\n",
    "if restr == str:\n",
    "    print(\"Palindrome\")\n",
    "else:\n",
    "    print(\"Not a palindrome\")\n",
    "    "
   ]
  },
  {
   "cell_type": "code",
   "execution_count": 1,
   "metadata": {},
   "outputs": [
    {
     "name": "stdout",
     "output_type": "stream",
     "text": [
      "Fact:  120\n"
     ]
    }
   ],
   "source": [
    "num = int(input(\"Enter a number: \"))\n",
    "fact = 1\n",
    "while num > 0:\n",
    "    fact = fact * num\n",
    "    num -= 1\n",
    "print(\"Fact: \",fact)"
   ]
  },
  {
   "cell_type": "code",
   "execution_count": 1,
   "metadata": {},
   "outputs": [
    {
     "name": "stdout",
     "output_type": "stream",
     "text": [
      "15  30  45  60  75  90  "
     ]
    }
   ],
   "source": [
    "for i in range(1,101):\n",
    "    if i%3 == 0 and i%5 == 0:\n",
    "        print(i,\" \", end=\"\")"
   ]
  },
  {
   "cell_type": "code",
   "execution_count": 3,
   "metadata": {},
   "outputs": [
    {
     "name": "stdout",
     "output_type": "stream",
     "text": [
      "23 is a prime number\n"
     ]
    }
   ],
   "source": [
    "num = int(input(\"Enter a number: \"))\n",
    "if num > 1:\n",
    "    for i in range(2, int(num**0.5)+1):\n",
    "        if (num % i) == 0:\n",
    "            print(num, \"is not a prime number\")\n",
    "            break\n",
    "    else:\n",
    "        print(num, \"is a prime number\")"
   ]
  },
  {
   "cell_type": "code",
   "execution_count": 6,
   "metadata": {},
   "outputs": [
    {
     "name": "stdout",
     "output_type": "stream",
     "text": [
      "Second max Value:  34\n"
     ]
    }
   ],
   "source": [
    "arr = list(map(int, input(\"Enter numbers: \").split(\",\")))\n",
    "arr.sort()\n",
    "print(\"Second max Value: \", arr[-2])"
   ]
  },
  {
   "cell_type": "code",
   "execution_count": 8,
   "metadata": {},
   "outputs": [
    {
     "name": "stdout",
     "output_type": "stream",
     "text": [
      "Sum of even numbers between 1 to 50:  650\n"
     ]
    }
   ],
   "source": [
    "su = 0\n",
    "for i in range(1, 51):\n",
    "    if i%2 == 0:\n",
    "        su += i\n",
    "print(\"Sum of even numbers between 1 to 50: \", su)"
   ]
  },
  {
   "cell_type": "code",
   "execution_count": 9,
   "metadata": {},
   "outputs": [
    {
     "name": "stdout",
     "output_type": "stream",
     "text": [
      "Lower case letters:  13\n",
      "Upper case letters:  4\n"
     ]
    }
   ],
   "source": [
    "str = input(\"Enter a string: \")\n",
    "cup =clow=0\n",
    "for char in str:\n",
    "    if char.isalpha():\n",
    "        if char.islower():\n",
    "            clow+=1\n",
    "        elif char.isupper():\n",
    "            cup+=1\n",
    "print(\"Lower case letters: \", clow)\n",
    "print(\"Upper case letters: \", cup)"
   ]
  },
  {
   "cell_type": "code",
   "execution_count": 11,
   "metadata": {},
   "outputs": [
    {
     "name": "stdout",
     "output_type": "stream",
     "text": [
      "Fibonacci sequence:  [0, 1, 1, 2, 3]\n"
     ]
    }
   ],
   "source": [
    "n = int(input(\"Enter a number: \"))\n",
    "fib = [0, 1]\n",
    "for i in range(2, n):\n",
    "    next = fib[i-1] + fib[i-2]\n",
    "    fib.append(next)\n",
    "print(\"Fibonacci sequence: \", fib)"
   ]
  },
  {
   "cell_type": "code",
   "execution_count": 14,
   "metadata": {},
   "outputs": [
    {
     "name": "stdout",
     "output_type": "stream",
     "text": [
      "Anagram\n"
     ]
    }
   ],
   "source": [
    "str = input(\"Enter a string: \")\n",
    "str1 = input(\"Enter a anagram: \")\n",
    "if sorted(str) == sorted(str1):\n",
    "    print(\"Anagram\")\n",
    "else:\n",
    "    print(\"Not an Anagram\")"
   ]
  },
  {
   "cell_type": "code",
   "execution_count": 15,
   "metadata": {},
   "outputs": [
    {
     "name": "stdout",
     "output_type": "stream",
     "text": [
      "234 is not a perfect number\n"
     ]
    }
   ],
   "source": [
    "num = int(input(\"Enter a number: \"))\n",
    "perfect = 0\n",
    "for i in range(1, num):\n",
    "    if num % i == 0:\n",
    "        perfect += i\n",
    "if perfect == num:\n",
    "    print(num, \"is a perfect number\")\n",
    "else:\n",
    "    print(num, \"is not a perfect number\")"
   ]
  },
  {
   "cell_type": "code",
   "execution_count": 19,
   "metadata": {},
   "outputs": [
    {
     "name": "stdout",
     "output_type": "stream",
     "text": [
      "Grade: F\n"
     ]
    }
   ],
   "source": [
    "score = list(map(int, input(\"Enter Number: \").split(\",\")))\n",
    "sum = 0\n",
    "for i in range(len(score)):\n",
    "    sum += score[i]\n",
    "avg = sum / len(score)\n",
    "if avg >= 90:\n",
    "    print(\"Grade: A\")\n",
    "elif avg >= 80:\n",
    "    print(\"Grade: B\")\n",
    "elif avg >= 70:\n",
    "    print(\"Grade: C\")\n",
    "elif avg >= 60:\n",
    "    print(\"Grade: D\")\n",
    "else:\n",
    "    print(\"Grade: F\")\n"
   ]
  },
  {
   "cell_type": "code",
   "execution_count": 22,
   "metadata": {},
   "outputs": [
    {
     "name": "stdout",
     "output_type": "stream",
     "text": [
      "1  2  3  5  7  11  13  17  19  23  29  31  37  41  43  47  53  59  61  67  71  73  79  83  89  97  "
     ]
    }
   ],
   "source": [
    "for i in range(1, 101):\n",
    "    for j in range(2, int(i**0.5)+1):\n",
    "        if (i % j) == 0:\n",
    "            break\n",
    "    else:\n",
    "        print(i, \" \", end=\"\")"
   ]
  },
  {
   "cell_type": "code",
   "execution_count": 23,
   "metadata": {},
   "outputs": [
    {
     "name": "stdout",
     "output_type": "stream",
     "text": [
      "Number of alphabetic characters:  6\n"
     ]
    }
   ],
   "source": [
    "str = input(\"Enter a string: \")\n",
    "count = 0\n",
    "for char in str:\n",
    "    if char.isalpha():\n",
    "        count += 1\n",
    "print(\"Number of alphabetic characters: \", count)"
   ]
  },
  {
   "cell_type": "code",
   "execution_count": 25,
   "metadata": {},
   "outputs": [
    {
     "name": "stdout",
     "output_type": "stream",
     "text": [
      "Final price after discount:  320.0\n"
     ]
    }
   ],
   "source": [
    "price = float(input(\"Enter price: \"))\n",
    "age = int(input(\"Enter age: \"))\n",
    "student = input(\"Are you a student (yes/no): \").lower()\n",
    "Dis = 0\n",
    "if student:\n",
    "    Dis = price * 0.2\n",
    "elif age > 60:\n",
    "    Dis = price * 0.1\n",
    "print(\"Final price after discount: \", price - Dis)"
   ]
  },
  {
   "cell_type": "code",
   "execution_count": 26,
   "metadata": {},
   "outputs": [
    {
     "name": "stdout",
     "output_type": "stream",
     "text": [
      "Payable : 549\n"
     ]
    }
   ],
   "source": [
    "value = int(input(\"Enter a number: \"))\n",
    "if value < 500:\n",
    "    print(\"Payable :\", value+50)\n",
    "else:\n",
    "    print(\"Payable :\", value)"
   ]
  },
  {
   "cell_type": "code",
   "execution_count": 27,
   "metadata": {},
   "outputs": [
    {
     "name": "stdout",
     "output_type": "stream",
     "text": [
      "Grade: F\n"
     ]
    }
   ],
   "source": [
    "score = int(input(\"Enter score: \"))\n",
    "if score >= 90:\n",
    "    print(\"Grade: A\")\n",
    "elif score >= 80:\n",
    "    print(\"Grade: B\")\n",
    "elif score >= 70:\n",
    "    print(\"Grade: C\")\n",
    "elif score >= 60:\n",
    "    print(\"Grade: D\")\n",
    "else:\n",
    "    print(\"Grade: F\")\n"
   ]
  },
  {
   "cell_type": "code",
   "execution_count": 28,
   "metadata": {},
   "outputs": [
    {
     "name": "stdout",
     "output_type": "stream",
     "text": [
      "Final amount after discount:  69.9\n"
     ]
    }
   ],
   "source": [
    "amount = float(input(\"Enter amount: \"))\n",
    "if amount > 1000:\n",
    "    tip = amount * 0.15\n",
    "elif amount >= 500:\n",
    "    tip = amount * 0.1\n",
    "else:\n",
    "    tip = amount * 0.05\n",
    "print(\"Final amount after discount: \", tip)"
   ]
  },
  {
   "cell_type": "code",
   "execution_count": 29,
   "metadata": {},
   "outputs": [
    {
     "name": "stdout",
     "output_type": "stream",
     "text": [
      "Final price:  8200\n"
     ]
    }
   ],
   "source": [
    "months = int(input(\"Enter number of months: \"))\n",
    "final_price = 0\n",
    "while months >= 12:\n",
    "    final_price += 5000\n",
    "    months -= 12\n",
    "while months >= 6:\n",
    "    final_price += 2700\n",
    "    months -= 6\n",
    "while months > 0:\n",
    "    final_price += 500\n",
    "    months -= 1\n",
    "print(\"Final price: \", final_price)"
   ]
  },
  {
   "cell_type": "code",
   "execution_count": 30,
   "metadata": {},
   "outputs": [
    {
     "name": "stdout",
     "output_type": "stream",
     "text": [
      "Allowed to sit in exam\n"
     ]
    }
   ],
   "source": [
    "total_class = int(input(\"Enter total classes held: \"))\n",
    "attended_class = int(input(\"Enter total classes attended: \"))\n",
    "attendance = (attended_class / total_class) * 100\n",
    "if attendance >= 75:\n",
    "    print(\"Allowed to sit in exam\")\n",
    "else:\n",
    "    print(\"Not allowed to sit in exam\")"
   ]
  },
  {
   "cell_type": "code",
   "execution_count": 31,
   "metadata": {},
   "outputs": [
    {
     "name": "stdout",
     "output_type": "stream",
     "text": [
      "Success\n"
     ]
    }
   ],
   "source": [
    "num = int(input(\"Enter a number: \"))\n",
    "if num % 100  == 0:\n",
    "    print(\"Success\")\n",
    "else:\n",
    "    print(\"Failure\")"
   ]
  },
  {
   "cell_type": "code",
   "execution_count": 32,
   "metadata": {},
   "outputs": [
    {
     "name": "stdout",
     "output_type": "stream",
     "text": [
      "Hot\n"
     ]
    }
   ],
   "source": [
    "temp = float(input(\"Enter temperature in Celsius: \"))\n",
    "if temp > 35:\n",
    "    print(\"Hot\")\n",
    "elif temp >= 20:\n",
    "    print(\"Warm\")\n",
    "else:\n",
    "    print(\"Cool\")\n"
   ]
  },
  {
   "cell_type": "code",
   "execution_count": 33,
   "metadata": {},
   "outputs": [
    {
     "name": "stdout",
     "output_type": "stream",
     "text": [
      "Charge: $10\n"
     ]
    }
   ],
   "source": [
    "day = int(input(\"Enter day (1-31): \"))\n",
    "if day > 10:\n",
    "    print(\"Charge: $100\")\n",
    "elif day > 5:\n",
    "    print(\"Charge: $50\")\n",
    "else:\n",
    "    print(\"Charge: $10\")"
   ]
  },
  {
   "cell_type": "code",
   "execution_count": 35,
   "metadata": {},
   "outputs": [
    {
     "name": "stdout",
     "output_type": "stream",
     "text": [
      "Total charge: $ 1840.0\n"
     ]
    }
   ],
   "source": [
    "bill = float(input(\"Enter bill amount: \"))\n",
    "price = 0\n",
    "if bill > 200:\n",
    "    price += (bill - 200)*10\n",
    "    bill = 200\n",
    "if bill > 100:\n",
    "    price += (bill - 100)*7\n",
    "    bill = 100\n",
    "if bill > 0:\n",
    "    price += bill*5\n",
    "print(\"Total charge: $\", price)"
   ]
  },
  {
   "cell_type": "code",
   "execution_count": null,
   "metadata": {},
   "outputs": [],
   "source": []
  }
 ],
 "metadata": {
  "kernelspec": {
   "display_name": "Python 3",
   "language": "python",
   "name": "python3"
  },
  "language_info": {
   "codemirror_mode": {
    "name": "ipython",
    "version": 3
   },
   "file_extension": ".py",
   "mimetype": "text/x-python",
   "name": "python",
   "nbconvert_exporter": "python",
   "pygments_lexer": "ipython3",
   "version": "3.11.0"
  }
 },
 "nbformat": 4,
 "nbformat_minor": 2
}
