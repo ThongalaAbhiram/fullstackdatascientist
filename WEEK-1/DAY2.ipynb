{
 "cells": [
  {
   "cell_type": "code",
   "execution_count": null,
   "id": "ab0c61fa",
   "metadata": {},
   "outputs": [],
   "source": [
    "# 1 Scenario: A grocery shopkeeper wants to calculate the bill of 3 items. Prices and quantities should be stored in variables, and the program should display the total cost.\n",
    " \n",
    "# Sample Input:\n",
    " \n",
    "# Item1 Price: 50, Quantity: 2\n",
    "# Item2 Price: 30, Quantity: 5\n",
    "# Item3 Price: 20, Quantity: 3\n",
    " \n",
    " \n",
    "# Expected Output:\n",
    " \n",
    "# Total Bill = (50*2) + (30*5) + (20*3) = 100 + 150 + 60 = 310\n",
    " \n",
    " \n",
    " \n",
    "# 2 Build a calculator that takes two numbers and performs addition, subtraction, multiplication, division, and modulus.\n",
    " \n",
    "# Sample Input:\n",
    " \n",
    "# Enter first number: 15\n",
    "# Enter second number: 4\n",
    " \n",
    " \n",
    "# Expected Output:\n",
    " \n",
    "# Addition = 19\n",
    "# Subtraction = 11\n",
    "# Multiplication = 60\n",
    "# Division = 3.75\n",
    "# Modulus = 3\n",
    " \n",
    " \n",
    "# 3 A teacher wants a grading system where marks are input, and the grade is displayed.\n",
    " \n",
    "# Sample Input:\n",
    " \n",
    "# Enter marks: 82\n",
    " \n",
    " \n",
    "# Expected Output:\n",
    " \n",
    "# Grade: A (Excellent)\n",
    " \n",
    " \n",
    "# (Rules: >=90 → A+, 80–89 → A, 70–79 → B, 60–69 → C, <60 → Fail)\n",
    " \n",
    "# 4 Student Marks List\n",
    "# Scenario: Store marks of 5 students in a list. Display the highest, lowest, and average marks.\n",
    " \n",
    "# Sample Input:\n",
    " \n",
    "# Marks: [45, 78, 88, 56, 90]\n",
    " \n",
    " \n",
    "# Expected Output:\n",
    " \n",
    "# Highest Marks = 90\n",
    "# Lowest Marks = 45\n",
    "# Average Marks = 71.4\n",
    " \n",
    "# 5 Create a phonebook using a dictionary where names are keys and numbers are values. Allow searching for a number by name.\n",
    " \n",
    "# Sample Input:\n",
    " \n",
    "# Phonebook = {\"Suhel\": 9876543210, \"Ravi\": 9123456780, \"Anita\": 9988776655}\n",
    "# Search Name: Ravi\n",
    " \n",
    " \n",
    "# Expected Output:\n",
    " \n",
    "# # Phone Number of Ravi: 9123456780"
   ]
  },
  {
   "cell_type": "code",
   "execution_count": null,
   "id": "ba74c0ca",
   "metadata": {},
   "outputs": [
    {
     "name": "stdout",
     "output_type": "stream",
     "text": [
      "Total Bill = 370\n"
     ]
    }
   ],
   "source": [
    "for i in range(1,4):\n",
    "    price=int(input(f\"Enter price of item {i}: \"))\n",
    "    quantity=int(input(f\"Enter quantity of item {i}: \"))\n",
    "    if i==1:\n",
    "        total_bill=price*quantity\n",
    "    else:\n",
    "        total_bill+=price*quantity\n",
    "print(f\"Total Bill = {total_bill}\")"
   ]
  },
  {
   "cell_type": "code",
   "execution_count": null,
   "id": "3329b0df",
   "metadata": {},
   "outputs": [
    {
     "name": "stdout",
     "output_type": "stream",
     "text": [
      "Addition = 62\n",
      "Subtraction = 18\n",
      "Multiplication = 880\n",
      "Division = 1.8181818181818181\n",
      "Modulus = 18\n"
     ]
    }
   ],
   "source": [
    "num1=int(input(\"Enter first number: \"))\n",
    "num2=int(input(\"Enter second number: \"))\n",
    "print(f\"Addition = {num1+num2}\")\n",
    "print(f\"Subtraction = {num1-num2}\")\n",
    "print(f\"Multiplication = {num1*num2}\")\n",
    "print(f\"Division = {num1/num2}\")\n",
    "print(f\"Modulus = {num1%num2}\")\n"
   ]
  },
  {
   "cell_type": "code",
   "execution_count": null,
   "id": "6a03494a",
   "metadata": {},
   "outputs": [
    {
     "name": "stdout",
     "output_type": "stream",
     "text": [
      "Grade: A (Excellent)\n"
     ]
    }
   ],
   "source": [
    "marks=int(input(\"Enter marks: \"))\n",
    "if marks>=90:\n",
    "    print(\"Grade: A+ (Outstanding)\")\n",
    "elif marks>=80:\n",
    "    print(\"Grade: A (Excellent)\")\n",
    "elif marks>=70:\n",
    "    print(\"Grade: B (Very Good)\")\n",
    "elif marks>=60:\n",
    "    print(\"Grade: C (Good)\")\n",
    "else:\n",
    "    print(\"Grade: Fail (Needs Improvement)\")"
   ]
  },
  {
   "cell_type": "code",
   "execution_count": null,
   "id": "5db1a382",
   "metadata": {},
   "outputs": [
    {
     "name": "stdout",
     "output_type": "stream",
     "text": [
      "Highest Marks = 60\n",
      "Lowest Marks = 30\n",
      "Average Marks = 45.0\n"
     ]
    }
   ],
   "source": [
    "marks = list(map(int, input(\"Enter marks of 5 students separated by space: \").split()))\n",
    "print(f\"Highest Marks = {max(marks)}\")\n",
    "print(f\"Lowest Marks = {min(marks)}\")\n",
    "print(f\"Average Marks = {sum(marks)/len(marks)}\")"
   ]
  },
  {
   "cell_type": "code",
   "execution_count": null,
   "id": "3fe4623d",
   "metadata": {},
   "outputs": [
    {
     "name": "stdout",
     "output_type": "stream",
     "text": [
      "{'koushik': 1234, 'ganja': 100, 'villu': 3}\n",
      "Phone Number of ganja: 100\n"
     ]
    }
   ],
   "source": [
    "phonebook = {\"koushik\": 1234, \"ganja\": 100, \"villu\": 3}\n",
    "print(phonebook)\n",
    "name=input(\"Enter name to search: \")\n",
    "if name in phonebook:\n",
    "    print(f\"Phone Number of {name}: {phonebook[name]}\")\n",
    "else:\n",
    "    print(f\"{name} not found in phonebook\")"
   ]
  },
  {
   "cell_type": "code",
   "execution_count": null,
   "id": "89a1fa6c",
   "metadata": {},
   "outputs": [],
   "source": [
    "# 6 Write a program to count the number of words, characters, and vowels in a sentence.\n",
    " \n",
    " \n",
    "# Sample Input:\n",
    " \n",
    " \n",
    "# Enter sentence: \"Python is awesome\"\n",
    " \n",
    " \n",
    " \n",
    "# Expected Output:\n",
    " \n",
    " \n",
    "# Total Words = 3\n",
    "\n",
    "# Total Characters = 16\n",
    "\n",
    "# Total Vowels = 6\n",
    " \n",
    " \n",
    "# 7 A bank provides simple interest and compound interest. A user inputs principal, rate, time, and type of interest. Program should calculate accordingly.\n",
    " \n",
    " \n",
    "# Sample Input:\n",
    " \n",
    " \n",
    "# Principal = 5000\n",
    "\n",
    "# Rate = 5\n",
    "\n",
    "# Time = 2\n",
    "\n",
    "# Interest Type = Compound\n",
    " \n",
    " \n",
    " \n",
    "# Expected Output:\n",
    " \n",
    " \n",
    "# Compound Interest = 512.50\n",
    "\n",
    "# Total Amount = 5512.50\n",
    " \n",
    " \n",
    "# 8 Implement a Caesar Cipher encryption. User inputs a message and a shift key. Program outputs the encrypted text using operators.\n",
    " \n",
    " \n",
    "# Sample Input:\n",
    " \n",
    " \n",
    "# Message = \"HELLO\"\n",
    "\n",
    "# Shift = 3\n",
    " \n",
    " \n",
    " \n",
    "# Expected Output:\n",
    " \n",
    " \n",
    "# Encrypted Message: KHOOR\n",
    " \n",
    " \n",
    "# 9 Build an ATM where users can withdraw money if they have sufficient balance, otherwise display “Insufficient Balance”. Handle PIN verification too.\n",
    " \n",
    " \n",
    "# Sample Input:\n",
    " \n",
    " \n",
    "# PIN = 1234\n",
    "\n",
    "# Balance = 5000\n",
    "\n",
    "# Withdraw = 2000\n",
    " \n",
    " \n",
    " \n",
    "# Expected Output:\n",
    " \n",
    " \n",
    "# PIN Verified.\n",
    "\n",
    "# Withdrawal Successful. Remaining Balance = 3000\n",
    " \n",
    " \n",
    "# 10 Store a list of books in a library. Program should allow adding, removing, and displaying all books. Also, show total number of books.\n",
    " \n",
    " \n",
    "# Sample Input:\n",
    " \n",
    " \n",
    "# Books = [\"Python Basics\", \"Data Science\", \"AI Fundamentals\"]\n",
    "\n",
    "# Add Book: \"Machine Learning\"\n",
    "\n",
    "# Remove Book: \"Data Science\"\n",
    " \n",
    " \n",
    " \n",
    "# Expected Output:\n",
    " \n",
    " \n",
    "# Current Books: ['Python Basics', 'AI Fundamentals', 'Machine Learning']\n",
    "\n",
    "# Total Books: 3\n",
    " "
   ]
  },
  {
   "cell_type": "code",
   "execution_count": null,
   "id": "2fb3c6f8",
   "metadata": {},
   "outputs": [
    {
     "name": "stdout",
     "output_type": "stream",
     "text": [
      "Total Words = 3\n",
      "Total Characters = 17\n",
      "Total Vowels = 6\n"
     ]
    }
   ],
   "source": [
    "sentence=input(\"Enter sentence: \")\n",
    "words=sentence.split()\n",
    "print(f\"Total Words = {len(words)}\")\n",
    "print(f\"Total Characters = {len(sentence)}\")\n",
    "vowels='aeiouAEIOU'\n",
    "vowel_count=0\n",
    "for char in sentence:\n",
    "    if char in vowels:\n",
    "        vowel_count+=1\n",
    "print(f\"Total Vowels = {vowel_count}\")"
   ]
  },
  {
   "cell_type": "code",
   "execution_count": null,
   "id": "9ccd9ec7",
   "metadata": {},
   "outputs": [],
   "source": [
    "principal=float(input(\"Enter Principal amount: \"))\n",
    "rate=float(input(\"Enter Rate of interest: \"))\n",
    "time=float(input(\"Enter Time in years: \"))\n",
    "interest_type=input(\"Enter Interest Type (Simple/Compound): \").strip().lower()\n",
    "if interest_type=='simple':\n",
    "    interest=(principal*rate*time)/100\n",
    "    total_amount=principal+interest\n",
    "    print(f\"Simple Interest = {interest}\")\n",
    "    print(f\"Total Amount = {total_amount}\")\n",
    "elif interest_type=='compound':\n",
    "    total_amount=principal*(1+rate/100)**time\n",
    "    interest=total_amount-principal\n",
    "    print(f\"Compound Interest = {interest:.2f}\")\n",
    "    print(f\"Total Amount = {total_amount:.2f}\")\n",
    "else:\n",
    "    print(\"Invalid Interest Type. Please enter 'Simple' or 'Compound'.\")\n"
   ]
  },
  {
   "cell_type": "code",
   "execution_count": null,
   "id": "940db6de",
   "metadata": {},
   "outputs": [
    {
     "name": "stdout",
     "output_type": "stream",
     "text": [
      "Encrypted Message: KHOOR\n"
     ]
    }
   ],
   "source": [
    "message=input(\"Enter message: \")\n",
    "shift=int(input(\"Enter shift value: \"))\n",
    "encrypted_message=\"\"\n",
    "for char in message:\n",
    "    if char.isalpha():\n",
    "        shifted=ord(char)+shift\n",
    "        if char.isupper():\n",
    "            if shifted > ord('Z'):\n",
    "                shifted -= 26\n",
    "        elif char.islower():\n",
    "            if shifted > ord('z'):\n",
    "                shifted -= 26\n",
    "        encrypted_message+=chr(shifted)\n",
    "    else:\n",
    "        encrypted_message+=char\n",
    "print(f\"Encrypted Message: {encrypted_message}\")\n"
   ]
  },
  {
   "cell_type": "code",
   "execution_count": null,
   "id": "a6f1cc05",
   "metadata": {},
   "outputs": [
    {
     "name": "stdout",
     "output_type": "stream",
     "text": [
      "PIN Verified.\n",
      "Withdrawal Successful. Remaining Balance = 5700\n"
     ]
    }
   ],
   "source": [
    "pin = int(input(\"Enter your PIN: \"))\n",
    "balance = int(input(\"Enter your current balance: \"))\n",
    "withdraw = int(input(\"Enter amount to withdraw: \"))\n",
    "if pin:\n",
    "    print(\"PIN Verified.\")\n",
    "    if withdraw <= balance:\n",
    "        balance -= withdraw\n",
    "        print(f\"Withdrawal Successful. Remaining Balance = {balance}\")\n",
    "    else:\n",
    "        print(\"Insufficient Balance.\")"
   ]
  },
  {
   "cell_type": "code",
   "execution_count": 9,
   "id": "5da981f4",
   "metadata": {},
   "outputs": [
    {
     "name": "stdout",
     "output_type": "stream",
     "text": [
      "Current Books: ['Python Basics', 'Data Science', 'AI Fundamentals']\n",
      "After adding, Books: ['Python Basics', 'Data Science', 'AI Fundamentals', 'EMl book']\n"
     ]
    }
   ],
   "source": [
    "books = [\"Python Basics\", \"Data Science\", \"AI Fundamentals\"]\n",
    "print(f\"Current Books: {books}\")\n",
    "add_book = input(\"Enter book to add: \")\n",
    "books.append(add_book)\n",
    "print(f\"After adding, Books: {books}\")\n",
    "remove_book = input(\"Enter book to remove: \")\n",
    "if remove_book in books:\n",
    "    books.remove(remove_book)\n",
    "    print(f\"After removing, Books: {books}\")\n",
    "    print(f\"Total Books: {len(books)}\")\n"
   ]
  },
  {
   "cell_type": "code",
   "execution_count": null,
   "id": "d58d82b4",
   "metadata": {},
   "outputs": [],
   "source": []
  }
 ],
 "metadata": {
  "kernelspec": {
   "display_name": "Python 3",
   "language": "python",
   "name": "python3"
  },
  "language_info": {
   "codemirror_mode": {
    "name": "ipython",
    "version": 3
   },
   "file_extension": ".py",
   "mimetype": "text/x-python",
   "name": "python",
   "nbconvert_exporter": "python",
   "pygments_lexer": "ipython3",
   "version": "3.11.0"
  }
 },
 "nbformat": 4,
 "nbformat_minor": 5
}
