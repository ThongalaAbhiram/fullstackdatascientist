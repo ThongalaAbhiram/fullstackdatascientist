{
 "cells": [
  {
   "cell_type": "code",
   "execution_count": 2,
   "id": "d101791c",
   "metadata": {},
   "outputs": [
    {
     "name": "stdout",
     "output_type": "stream",
     "text": [
      "tip is 15%: 150\n",
      "total amount: 1150\n"
     ]
    }
   ],
   "source": [
    "bill=int(input(\"Enter bill amount: \"))\n",
    "if bill<500:\n",
    "    print(\"tip is 5%:\",int(bill*0.05))\n",
    "    print(\"total amount:\",int(bill*1.05))\n",
    "elif bill>=500 and bill<1000:\n",
    "    print(\"tip is 10%:\",int(bill*0.1))\n",
    "    print(\"total amount:\",int(bill*1.1))\n",
    "elif bill>=1000:\n",
    "    print(\"tip is 15%:\",int(bill*0.15))\n",
    "    print(\"total amount:\",int(bill*1.15))"
   ]
  }
 ],
 "metadata": {
  "kernelspec": {
   "display_name": "venv",
   "language": "python",
   "name": "python3"
  },
  "language_info": {
   "codemirror_mode": {
    "name": "ipython",
    "version": 3
   },
   "file_extension": ".py",
   "mimetype": "text/x-python",
   "name": "python",
   "nbconvert_exporter": "python",
   "pygments_lexer": "ipython3",
   "version": "3.11.0"
  }
 },
 "nbformat": 4,
 "nbformat_minor": 5
}
