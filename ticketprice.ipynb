{
 "cells": [
  {
   "cell_type": "code",
   "execution_count": 1,
   "id": "75a4feea",
   "metadata": {},
   "outputs": [
    {
     "name": "stdout",
     "output_type": "stream",
     "text": [
      "Student discount applied. Ticket price is: 160.0\n"
     ]
    }
   ],
   "source": [
    "ticket_price=int(input(\"Enter the ticket price: \"))\n",
    "age=int(input(\"Enter your age: \"))\n",
    "student_status=input(\"Are you a student? (yes/no): \").lower()\n",
    "if age>=60:\n",
    "    discount=0.1\n",
    "    ticket_price=ticket_price-(ticket_price*discount)\n",
    "    print(\"Senior citizen discount applied. Ticket price is:\", ticket_price)\n",
    "elif student_status==\"yes\":\n",
    "    discount=0.2\n",
    "    ticket_price=ticket_price-(ticket_price*discount)\n",
    "    print(\"Student discount applied. Ticket price is:\", ticket_price)\n",
    "else:\n",
    "    print(\"No discount applicable. Ticket price is:\", ticket_price)\n",
    "    "
   ]
  }
 ],
 "metadata": {
  "kernelspec": {
   "display_name": "venv",
   "language": "python",
   "name": "python3"
  },
  "language_info": {
   "codemirror_mode": {
    "name": "ipython",
    "version": 3
   },
   "file_extension": ".py",
   "mimetype": "text/x-python",
   "name": "python",
   "nbconvert_exporter": "python",
   "pygments_lexer": "ipython3",
   "version": "3.11.0"
  }
 },
 "nbformat": 4,
 "nbformat_minor": 5
}
