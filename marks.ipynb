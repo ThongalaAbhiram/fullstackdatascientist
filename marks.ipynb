{
 "cells": [
  {
   "cell_type": "code",
   "execution_count": 1,
   "id": "e5a0e7b6",
   "metadata": {},
   "outputs": [
    {
     "name": "stdout",
     "output_type": "stream",
     "text": [
      "Total marks:  400\n",
      "Percentage:  80.0\n",
      "Grade: B\n"
     ]
    }
   ],
   "source": [
    "sub1=int(input(\"Enter subject 1 marks: \"))\n",
    "sub2=int(input(\"Enter subject 2 marks: \"))\n",
    "sub3=int(input(\"Enter subject 3 marks: \"))\n",
    "sub4=int(input(\"Enter subject 4 marks: \"))\n",
    "sub5=int(input(\"Enter subject 5 marks: \"))\n",
    "total=sub1+sub2+sub3+sub4+sub5\n",
    "percentage=(total/500)*100\n",
    "print(\"Total marks: \",total)\n",
    "print(\"Percentage: \",percentage)\n",
    "if percentage>=90:\n",
    "    print(\"Grade: A\")\n",
    "elif percentage>=75:\n",
    "    print(\"Grade: B\")\n",
    "elif percentage>=50:\n",
    "    print(\"Grade: C\")\n",
    "elif percentage<50:\n",
    "    print(\"Grade: Fail\")\n"
   ]
  }
 ],
 "metadata": {
  "kernelspec": {
   "display_name": "venv",
   "language": "python",
   "name": "python3"
  },
  "language_info": {
   "codemirror_mode": {
    "name": "ipython",
    "version": 3
   },
   "file_extension": ".py",
   "mimetype": "text/x-python",
   "name": "python",
   "nbconvert_exporter": "python",
   "pygments_lexer": "ipython3",
   "version": "3.11.0"
  }
 },
 "nbformat": 4,
 "nbformat_minor": 5
}
