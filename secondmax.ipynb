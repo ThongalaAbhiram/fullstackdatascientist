{
 "cells": [
  {
   "cell_type": "code",
   "execution_count": 1,
   "id": "52863e9c",
   "metadata": {},
   "outputs": [
    {
     "name": "stdout",
     "output_type": "stream",
     "text": [
      "[10, 50, 48, 56, 75]\n",
      "56\n"
     ]
    }
   ],
   "source": [
    "n=int(input())\n",
    "scores=[]\n",
    "for i in range(n):\n",
    "    scores.append(int(input()))\n",
    "print(scores)\n",
    "second_max=scores.remove(max(scores))\n",
    "print(max(scores))\n"
   ]
  }
 ],
 "metadata": {
  "kernelspec": {
   "display_name": "venv",
   "language": "python",
   "name": "python3"
  },
  "language_info": {
   "codemirror_mode": {
    "name": "ipython",
    "version": 3
   },
   "file_extension": ".py",
   "mimetype": "text/x-python",
   "name": "python",
   "nbconvert_exporter": "python",
   "pygments_lexer": "ipython3",
   "version": "3.11.0"
  }
 },
 "nbformat": 4,
 "nbformat_minor": 5
}
