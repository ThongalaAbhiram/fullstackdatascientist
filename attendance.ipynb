{
 "cells": [
  {
   "cell_type": "code",
   "execution_count": 3,
   "id": "e9e0435a",
   "metadata": {},
   "outputs": [
    {
     "name": "stdout",
     "output_type": "stream",
     "text": [
      "Allowed to sit in exam,percentage is: 76.0\n"
     ]
    }
   ],
   "source": [
    "total_classes=int(input(\"Enter total classes held: \"))\n",
    "classes_attended=int(input(\"Enter classes attended: \"))\n",
    "percentage=(classes_attended/total_classes)*100\n",
    "if percentage>=75:\n",
    "    print(\"Allowed to sit in exam,percentage is:\",percentage)\n",
    "else:\n",
    "    print(\"Not allowed to sit in exam,percentage is:\",percentage)\n"
   ]
  }
 ],
 "metadata": {
  "kernelspec": {
   "display_name": "venv",
   "language": "python",
   "name": "python3"
  },
  "language_info": {
   "codemirror_mode": {
    "name": "ipython",
    "version": 3
   },
   "file_extension": ".py",
   "mimetype": "text/x-python",
   "name": "python",
   "nbconvert_exporter": "python",
   "pygments_lexer": "ipython3",
   "version": "3.11.0"
  }
 },
 "nbformat": 4,
 "nbformat_minor": 5
}
