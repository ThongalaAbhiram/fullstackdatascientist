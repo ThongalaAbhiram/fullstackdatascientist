{
 "cells": [
  {
   "cell_type": "markdown",
   "id": "df0a700a",
   "metadata": {},
   "source": [
    "1. Problem: Given a text file, count the total number of words.\n",
    "\n",
    "2. Problem: Write a program to check if a password is strong (at least 8 characters, contains uppercase, lowercase, digit, and special char).\n",
    "\n",
    "3. Problem: Implement a calculator with +, -, *, / operations.\n",
    "\n",
    "4. Problem: Given a list of student names, find duplicates.\n",
    "\n",
    "5. Problem: Convert between Celsius and Fahrenheit.\n",
    "\n",
    "6. Problem: Find the largest number from a list of integers.\n",
    "\n",
    "7. Problem: Calculate Simple Interest.\n",
    "\n",
    "8. Problem: Given a dictionary of student names and attendance %, find defaulters (<75%).\n",
    "\n",
    "9. Problem: Input: 1234 → Output: 10\n",
    "\n",
    "10. Problem: Write a function to check if a number is prime.\n",
    "\n",
    "11. Problem: Find smallest and largest numbers from a list.\n",
    "\n",
    "12. Problem: Given items with prices in a dictionary, calculate total bill.\n",
    "\n",
    "13. Problem: Input 3 numbers, print the largest.\n",
    "\n",
    "14. Problem: Count how many times each character appears in a string.\n",
    "\n",
    "15. Problem: Calculate electricity bill:\n",
    "\n",
    "First 100 units → ₹5/unit\n",
    "\n",
    "Next 100 units → ₹7/unit\n",
    "\n",
    "Above 200 units → ₹10/unit\n",
    "\n",
    "16. Problem: Sort a list of names in ascending order.\n",
    "\n",
    "17. Problem: Input: 1234 → Output: 4321\n",
    "\n",
    "18. Problem: Given a list, count positive, negative, and zero numbers.\n",
    "\n",
    "19. Problem: User has 3 attempts to enter correct PIN.\n",
    "\n",
    "20. Problem: Write a program that asks for two numbers and divides them. Handle division by zero.\n",
    "\n",
    "21. Problem: Write a program that handles both ValueError (invalid input) and ZeroDivisionError.\n",
    "\n",
    "22. Problem: If withdrawal amount is greater than balance, raise an exception.\n",
    "\n",
    "23. Problem: Calculate total price, handle invalid input, and always show \"Bill processing finished\".\n",
    "\n",
    "\t•\tFirst 100 units → ₹5/unit\n",
    "\n",
    "\t•\tNext 100 units → ₹7/unit\n",
    "\n",
    "\t•\tAbove 200 units → ₹10/uni\n",
    " "
   ]
  },
  {
   "cell_type": "code",
   "execution_count": null,
   "id": "cee527a6",
   "metadata": {},
   "outputs": [
    {
     "data": {
      "text/plain": [
       "1"
      ]
     },
     "execution_count": 8,
     "metadata": {},
     "output_type": "execute_result"
    }
   ],
   "source": [
    "# 1.\n",
    "\n",
    "def countfile(filepath):\n",
    "    with open(filepath,\"r\") as f:\n",
    "        fr=f.read()\n",
    "        words=fr.split()\n",
    "        return len(words)\n",
    "filepath=r\"D:\\Fullstackdatascientist\\requirements.txt\"\n",
    "countfile(filepath)"
   ]
  },
  {
   "cell_type": "code",
   "execution_count": 17,
   "id": "3de5bc96",
   "metadata": {},
   "outputs": [
    {
     "name": "stdout",
     "output_type": "stream",
     "text": [
      "Strong\n"
     ]
    }
   ],
   "source": [
    "# 2.\n",
    "\n",
    "import string\n",
    "\n",
    "def check_pwd(str1):\n",
    "    has_alpha=any(ch.isalpha() for ch in str1)\n",
    "    has_num=any(ch.isdigit() for ch in str1 )\n",
    "    has_punc=any(ch in string.punctuation for ch in str1)\n",
    "    \n",
    "    if len(str1)>=8 and has_alpha and has_num and has_punc:\n",
    "        print(\"Strong\")\n",
    "    else:\n",
    "        print(\"Weak\")\n",
    "str1=\"Abhi@5546\"\n",
    "check_pwd(str1)"
   ]
  },
  {
   "cell_type": "code",
   "execution_count": null,
   "id": "326880da",
   "metadata": {},
   "outputs": [
    {
     "data": {
      "text/plain": [
       "5"
      ]
     },
     "execution_count": 13,
     "metadata": {},
     "output_type": "execute_result"
    }
   ],
   "source": [
    "# 3.\n",
    "\n",
    "def switchCalc(choice,a,b):\n",
    "    match choice:\n",
    "        case 1:\n",
    "            return a+b\n",
    "        case 2:\n",
    "            return a-b\n",
    "        case 3:\n",
    "            return a*b\n",
    "        case 4:\n",
    "            if b!=0:\n",
    "                return a/b\n",
    "            return a/b\n",
    "a=int(input())\n",
    "b=int(input())\n",
    "choice=2\n",
    "switchCalc(choice,a,b)"
   ]
  },
  {
   "cell_type": "code",
   "execution_count": 36,
   "id": "7785d87b",
   "metadata": {},
   "outputs": [
    {
     "name": "stdout",
     "output_type": "stream",
     "text": [
      "['bunny', 'abhi']\n"
     ]
    }
   ],
   "source": [
    "# 4.\n",
    "\n",
    "def dup(list1):\n",
    "    l1=[x for x in list1 if list1.count(x)>1]\n",
    "    l2=list(set(l1))\n",
    "    return l2\n",
    "l=[\"abhi\",\"adhi\",\"bunny\",\"bunny\",\"abhi\"]        \n",
    "print(dup(l))"
   ]
  },
  {
   "cell_type": "code",
   "execution_count": 44,
   "id": "7425ccd5",
   "metadata": {},
   "outputs": [
    {
     "name": "stdout",
     "output_type": "stream",
     "text": [
      "32.0\n",
      "0.0\n"
     ]
    }
   ],
   "source": [
    "#5 .\n",
    "\n",
    "def celtofar(n):\n",
    "    return ((9/5)*n)+32\n",
    "def fartocel(n):\n",
    "    return (n-32)*(5/9)\n",
    "print(celtofar(0))\n",
    "print(fartocel(32))"
   ]
  },
  {
   "cell_type": "code",
   "execution_count": null,
   "id": "4b3b285c",
   "metadata": {},
   "outputs": [
    {
     "name": "stdout",
     "output_type": "stream",
     "text": [
      "50\n"
     ]
    }
   ],
   "source": [
    "# 6.\n",
    "\n",
    "def lar(list1):\n",
    "    list1.sort()\n",
    "    return list1[-1]\n",
    "l=[1,2,50,20]\n",
    "print(lar(l))\n",
    "\n",
    "\n",
    "# or use sorted()\n"
   ]
  },
  {
   "cell_type": "code",
   "execution_count": 51,
   "id": "6aa0321e",
   "metadata": {},
   "outputs": [
    {
     "data": {
      "text/plain": [
       "100.0"
      ]
     },
     "execution_count": 51,
     "metadata": {},
     "output_type": "execute_result"
    }
   ],
   "source": [
    "# 7.\n",
    "\n",
    "def simpInt(p,t,r):\n",
    "    return (p*t*r)/100\n",
    "simpInt(1000,1,10)"
   ]
  },
  {
   "cell_type": "code",
   "execution_count": 59,
   "id": "cc2048f4",
   "metadata": {},
   "outputs": [
    {
     "name": "stdout",
     "output_type": "stream",
     "text": [
      "['adhi', 'bunny']\n"
     ]
    }
   ],
   "source": [
    "# 8.\n",
    "\n",
    "def deaf(dict1):\n",
    "    y=[x for x,y in dict1.items() if y<75]\n",
    "    return y\n",
    "d1={\n",
    "    \"abhi\":80,\n",
    "    \"adhi\":70,\n",
    "    \"bunny\":50\n",
    "}\n",
    "print(deaf(d1))"
   ]
  },
  {
   "cell_type": "code",
   "execution_count": 5,
   "id": "5935a4ae",
   "metadata": {},
   "outputs": [
    {
     "name": "stdout",
     "output_type": "stream",
     "text": [
      "sum: 3\n"
     ]
    }
   ],
   "source": [
    "# 9.\n",
    "\n",
    "n=int(input())\n",
    "r=0\n",
    "for i in range(n):\n",
    "    r+=n%10\n",
    "    n=n//10\n",
    "print(f\"sum: {r}\")"
   ]
  },
  {
   "cell_type": "code",
   "execution_count": 21,
   "id": "dc55e28c",
   "metadata": {},
   "outputs": [
    {
     "data": {
      "text/plain": [
       "True"
      ]
     },
     "execution_count": 21,
     "metadata": {},
     "output_type": "execute_result"
    }
   ],
   "source": [
    "# 10.\n",
    "\n",
    "def isprime(num):\n",
    "    if num<2:\n",
    "        return False\n",
    "    for i in range(2,(int(num**0.5)+1)):\n",
    "        if num%i==0:\n",
    "            return False\n",
    "        return True\n",
    "num=13\n",
    "isprime(num)"
   ]
  },
  {
   "cell_type": "code",
   "execution_count": 22,
   "id": "b156bc59",
   "metadata": {},
   "outputs": [
    {
     "name": "stdout",
     "output_type": "stream",
     "text": [
      "Largest: 89 Smallest: 2\n"
     ]
    }
   ],
   "source": [
    "# 11.\n",
    "\n",
    "def smalLarge(l):\n",
    "    l.sort()\n",
    "    print(f\"Largest: {l[-1]} Smallest: {l[0]}\")\n",
    "l=[40,20,89,2,5]\n",
    "smalLarge(l)"
   ]
  },
  {
   "cell_type": "code",
   "execution_count": 37,
   "id": "2b2125c8",
   "metadata": {},
   "outputs": [
    {
     "name": "stdout",
     "output_type": "stream",
     "text": [
      "Total Bill: 300\n"
     ]
    }
   ],
   "source": [
    "# 12.\n",
    "\n",
    "def bill(d):\n",
    "    print(f\"Total Bill: {sum(d.values())}\")\n",
    "d={\n",
    "    \"bill1\":50,\n",
    "    \"bill2\":100,\n",
    "    \"bill3\":150\n",
    "}\n",
    "bill(d)"
   ]
  },
  {
   "cell_type": "code",
   "execution_count": 5,
   "id": "f2a6a0bf",
   "metadata": {},
   "outputs": [
    {
     "name": "stdout",
     "output_type": "stream",
     "text": [
      "Largest: 480\n"
     ]
    }
   ],
   "source": [
    "# 13.\n",
    "\n",
    "def large(x,y,z):\n",
    "    s=sorted([x,y,z])\n",
    "    print(f\"Largest: {s[-1]}\")\n",
    "x,y,z=list(map(int,input().split()))\n",
    "large(x,y,z)"
   ]
  },
  {
   "cell_type": "code",
   "execution_count": 12,
   "id": "50dfcb66",
   "metadata": {},
   "outputs": [
    {
     "data": {
      "text/plain": [
       "{'a': 1, 'b': 2, 'c': 4, 'z': 1}"
      ]
     },
     "execution_count": 12,
     "metadata": {},
     "output_type": "execute_result"
    }
   ],
   "source": [
    "# 14.\n",
    "\n",
    "def charcount(str1):\n",
    "    d={}\n",
    "    for ch in str1:\n",
    "        d[ch]=str1.count(ch)\n",
    "    return d\n",
    "str1=\"abbccczc\"\n",
    "charcount(str1)"
   ]
  },
  {
   "cell_type": "code",
   "execution_count": 7,
   "id": "b7654005",
   "metadata": {},
   "outputs": [
    {
     "data": {
      "text/plain": [
       "500"
      ]
     },
     "execution_count": 7,
     "metadata": {},
     "output_type": "execute_result"
    }
   ],
   "source": [
    "# 15.\n",
    "\n",
    "def bill(units):\n",
    "    if units<=100:\n",
    "        return units*5\n",
    "    elif units>100 and units<=200:\n",
    "        return 100*5+(units-100)*7\n",
    "    else:\n",
    "        return 100*5+100*7+(units-200)*10\n",
    "units=100\n",
    "bill(units)\n",
    "        "
   ]
  },
  {
   "cell_type": "code",
   "execution_count": 13,
   "id": "adb77f02",
   "metadata": {},
   "outputs": [
    {
     "data": {
      "text/plain": [
       "['Abhi', 'Adhi', 'Bunny', 'Zara']"
      ]
     },
     "execution_count": 13,
     "metadata": {},
     "output_type": "execute_result"
    }
   ],
   "source": [
    "# 16.\n",
    "\n",
    "def sort_names(l):\n",
    "    return sorted(l)\n",
    "l=[\"Abhi\",\"Adhi\",\"Zara\",\"Bunny\"]\n",
    "sort_names(l)"
   ]
  },
  {
   "cell_type": "code",
   "execution_count": 16,
   "id": "83513dd3",
   "metadata": {},
   "outputs": [
    {
     "name": "stdout",
     "output_type": "stream",
     "text": [
      "465\n"
     ]
    }
   ],
   "source": [
    "# 17.\n",
    "\n",
    "def palin(num):\n",
    "    num1=str(num)\n",
    "    st=\"\"\n",
    "    for i in range(len(num1)):\n",
    "        r=str(num%10)\n",
    "        st=st+r\n",
    "        num=num//10\n",
    "    n=int(st)\n",
    "    print(n)\n",
    "num=int(input())\n",
    "palin(num)"
   ]
  },
  {
   "cell_type": "code",
   "execution_count": 12,
   "id": "25b8550d",
   "metadata": {},
   "outputs": [
    {
     "name": "stdout",
     "output_type": "stream",
     "text": [
      "3\n",
      "2\n",
      "2\n"
     ]
    }
   ],
   "source": [
    "# 18.\n",
    "\n",
    "def count_(list1):\n",
    "    p=0\n",
    "    neg=0\n",
    "    zer0=0\n",
    "    for n in list1:\n",
    "        if n>0:\n",
    "            p+=1\n",
    "        elif n<0:\n",
    "            neg+=1\n",
    "        else:\n",
    "            zer0+=1\n",
    "    print(p)\n",
    "    print(neg)\n",
    "    print(zer0)\n",
    "list1=[1,0,3,-1,-5,0,5]\n",
    "count_(list1)\n"
   ]
  },
  {
   "cell_type": "code",
   "execution_count": 7,
   "id": "b29a34d8",
   "metadata": {},
   "outputs": [
    {
     "name": "stdout",
     "output_type": "stream",
     "text": [
      "Wrong pin entered\n",
      "Wrong pin entered\n",
      "Wrong pin entered\n",
      "Correct pin not provided\n"
     ]
    },
    {
     "data": {
      "text/plain": [
       "False"
      ]
     },
     "execution_count": 7,
     "metadata": {},
     "output_type": "execute_result"
    }
   ],
   "source": [
    "# 19.\n",
    "\n",
    "def pin(string):\n",
    "    for i in range(3):\n",
    "        val=True\n",
    "        s1=input()\n",
    "        if s1==string:\n",
    "            print(\"Correct pin\")\n",
    "            return True\n",
    "        else:\n",
    "            print(\"Wrong pin entered\")\n",
    "    print(\"Correct pin not provided\")\n",
    "    return False\n",
    "string=\"1234\"\n",
    "pin(string)"
   ]
  },
  {
   "cell_type": "code",
   "execution_count": 49,
   "id": "4dd816aa",
   "metadata": {},
   "outputs": [
    {
     "name": "stdout",
     "output_type": "stream",
     "text": [
      "Error Raised: cannot be divided by 0\n"
     ]
    }
   ],
   "source": [
    "# 20.\n",
    "\n",
    "def divbyzero(a,b):\n",
    "    return a/b\n",
    "try:\n",
    "    a=int(input())\n",
    "    b=int(input())\n",
    "    if b==0:\n",
    "        raise ZeroDivisionError(\"cannot be divided by 0\")\n",
    "    else:\n",
    "        print(divbyzero(a,b))\n",
    "except ZeroDivisionError as z:\n",
    "    print(\"Error Raised:\",z)"
   ]
  },
  {
   "cell_type": "code",
   "execution_count": null,
   "id": "eff50534",
   "metadata": {},
   "outputs": [
    {
     "name": "stdout",
     "output_type": "stream",
     "text": [
      "Div by 0 not possible: Invalid input\n"
     ]
    }
   ],
   "source": [
    "# 21.\n",
    "\n",
    "def fun(a,b):\n",
    "    print(a/b)\n",
    "try:\n",
    "    a=int(input())\n",
    "    b=int(input())\n",
    "    \n",
    "\n",
    "    if b==0:\n",
    "\n",
    "        raise ZeroDivisionError(\"Invalid input\")\n",
    "    else:\n",
    "        fun(a,b)\n",
    "\n",
    "except ZeroDivisionError as z:\n",
    "    print(\"Div by 0 not possible:\",z)\n",
    "except ValueError as e:\n",
    "\n",
    "    print(\"Error Raised:\",e)\n",
    "\n"
   ]
  },
  {
   "cell_type": "code",
   "execution_count": 35,
   "id": "17dac918",
   "metadata": {},
   "outputs": [
    {
     "name": "stdout",
     "output_type": "stream",
     "text": [
      "Error Raised: Insufficient Balance!\n"
     ]
    }
   ],
   "source": [
    "# 22.\n",
    "\n",
    "def withdraw(balance, amount):\n",
    "    if amount > balance:\n",
    "        raise Exception(\"Insufficient Balance!\")\n",
    "    else:\n",
    "        balance -= amount\n",
    "        print(f\"Withdrawal successful! Remaining Balance: ₹{balance}\")\n",
    "try:\n",
    "    balance = int(input(\"Enter account balance: \"))\n",
    "    amount = int(input(\"Enter withdrawal amount: \"))\n",
    "    withdraw(balance, amount)\n",
    "except Exception as e:\n",
    "    print(\"Error Raised:\",e)"
   ]
  },
  {
   "cell_type": "code",
   "execution_count": 30,
   "id": "c4199939",
   "metadata": {},
   "outputs": [
    {
     "name": "stdout",
     "output_type": "stream",
     "text": [
      "Invalid input! Units cannot be negative.\n"
     ]
    }
   ],
   "source": [
    "# 23.\n",
    "\n",
    "def bill(units):\n",
    "    if units<=100:\n",
    "        return units*5\n",
    "    elif units>100 and units<=200:\n",
    "        return 100*5+(units-100)*7\n",
    "    else:\n",
    "        return 100*5+100*7+(units-200)*10\n",
    "try:\n",
    "    units=int(input())\n",
    "    if units < 0:\n",
    "        print(\"Invalid input! Units cannot be negative.\")\n",
    "    else:\n",
    "        print(bill(units))\n",
    "except ValueError as e:\n",
    "    print(\"Invalid Input\")\n"
   ]
  }
 ],
 "metadata": {
  "kernelspec": {
   "display_name": "Python 3",
   "language": "python",
   "name": "python3"
  },
  "language_info": {
   "codemirror_mode": {
    "name": "ipython",
    "version": 3
   },
   "file_extension": ".py",
   "mimetype": "text/x-python",
   "name": "python",
   "nbconvert_exporter": "python",
   "pygments_lexer": "ipython3",
   "version": "3.10.18"
  }
 },
 "nbformat": 4,
 "nbformat_minor": 5
}
