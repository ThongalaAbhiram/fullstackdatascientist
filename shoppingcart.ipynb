{
 "cells": [
  {
   "cell_type": "code",
   "execution_count": 1,
   "id": "397662b2",
   "metadata": {},
   "outputs": [
    {
     "name": "stdout",
     "output_type": "stream",
     "text": [
      "Free delivery,amount to pay: 550\n"
     ]
    }
   ],
   "source": [
    "cart_value=int(input(\"Enter cart value: \"))\n",
    "if cart_value>500:\n",
    "    print(\"Free delivery,amount to pay:\",cart_value)\n",
    "\n",
    "else:\n",
    "    print(\"Delivery charge 50,amount to pay:\",cart_value+50)\n"
   ]
  }
 ],
 "metadata": {
  "kernelspec": {
   "display_name": "venv",
   "language": "python",
   "name": "python3"
  },
  "language_info": {
   "codemirror_mode": {
    "name": "ipython",
    "version": 3
   },
   "file_extension": ".py",
   "mimetype": "text/x-python",
   "name": "python",
   "nbconvert_exporter": "python",
   "pygments_lexer": "ipython3",
   "version": "3.11.0"
  }
 },
 "nbformat": 4,
 "nbformat_minor": 5
}
