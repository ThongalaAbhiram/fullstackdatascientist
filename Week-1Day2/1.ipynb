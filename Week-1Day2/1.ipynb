{
 "cells": [
  {
   "cell_type": "code",
   "execution_count": null,
   "id": "f837f1dd",
   "metadata": {},
   "outputs": [],
   "source": [
    "item1_price, item1_qty = 50, 2\n",
    "item2_price, item2_qty = 30, 5\n",
    "item3_price, item3_qty = 20, 3\n",
    "\n",
    "total = (item1_price * item1_qty) + (item2_price * item2_qty) + (item3_price * item3_qty)\n",
    "print(\"Total Bill =\", total)"
   ]
  }
 ],
 "metadata": {
  "kernelspec": {
   "display_name": "Python 3",
   "language": "python",
   "name": "python3"
  },
  "language_info": {
   "name": "python",
   "version": "3.10.18"
  }
 },
 "nbformat": 4,
 "nbformat_minor": 5
}
