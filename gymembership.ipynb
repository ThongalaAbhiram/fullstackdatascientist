{
 "cells": [
  {
   "cell_type": "code",
   "execution_count": null,
   "id": "32092c4b",
   "metadata": {},
   "outputs": [
    {
     "name": "stdout",
     "output_type": "stream",
     "text": [
      "amount to pay is: 5500\n"
     ]
    }
   ],
   "source": [
    "months=int(input(\"Enter number of months: \"))\n",
    "monthly=months*500\n",
    "if months<6:\n",
    "    print(\"Total amount to pay:\",monthly)\n",
    "\n",
    "if months>=6 and months<12:\n",
    "    if months%6==0:\n",
    "        print(\"amount tom pay is\",(months/6)*2700)\n",
    "    else:\n",
    "        print(\"amount to pay is:\",(months//6)*2700+(months%6)*500)\n",
    "\n",
    "if months>=12:\n",
    "    if months%12==0:\n",
    "        print(\"amount to pay is:\",(months/12)*5000)\n",
    "    else:\n",
    "        print(\"amount to pay is:\",(months//12)*5000+(months%12)*500)\n",
    "\n",
    "\n",
    "\n"
   ]
  }
 ],
 "metadata": {
  "kernelspec": {
   "display_name": "venv",
   "language": "python",
   "name": "python3"
  },
  "language_info": {
   "codemirror_mode": {
    "name": "ipython",
    "version": 3
   },
   "file_extension": ".py",
   "mimetype": "text/x-python",
   "name": "python",
   "nbconvert_exporter": "python",
   "pygments_lexer": "ipython3",
   "version": "3.11.0"
  }
 },
 "nbformat": 4,
 "nbformat_minor": 5
}
