{
 "cells": [
  {
   "cell_type": "code",
   "execution_count": null,
   "id": "1fc31b66",
   "metadata": {},
   "outputs": [
    {
     "name": "stdout",
     "output_type": "stream",
     "text": [
      "abcd  is present in  dcba\n"
     ]
    }
   ],
   "source": [
    "str1=input(\"Enter a string: \")\n",
    "str2=input(\"Enter another string: \")\n",
    "s1=sorted(str1)\n",
    "s2=sorted(str2)\n",
    "if s1==s2:\n",
    "    print(str1,\" is anagram of \",str2)\n",
    "else:\n",
    "    print(str1,\" is not anagram of \",str2)\n"
   ]
  }
 ],
 "metadata": {
  "kernelspec": {
   "display_name": "venv",
   "language": "python",
   "name": "python3"
  },
  "language_info": {
   "codemirror_mode": {
    "name": "ipython",
    "version": 3
   },
   "file_extension": ".py",
   "mimetype": "text/x-python",
   "name": "python",
   "nbconvert_exporter": "python",
   "pygments_lexer": "ipython3",
   "version": "3.11.0"
  }
 },
 "nbformat": 4,
 "nbformat_minor": 5
}
