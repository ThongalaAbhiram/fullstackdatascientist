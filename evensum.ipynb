{
 "cells": [
  {
   "cell_type": "code",
   "execution_count": 5,
   "id": "520ae439",
   "metadata": {},
   "outputs": [
    {
     "name": "stdout",
     "output_type": "stream",
     "text": [
      "0 + 0 = 0\n",
      "0 + 2 = 2\n",
      "2 + 4 = 6\n",
      "6 + 6 = 12\n",
      "12 + 8 = 20\n",
      "20 + 10 = 30\n",
      "30 + 12 = 42\n",
      "42 + 14 = 56\n",
      "56 + 16 = 72\n",
      "72 + 18 = 90\n",
      "90 + 20 = 110\n",
      "110 + 22 = 132\n",
      "132 + 24 = 156\n",
      "156 + 26 = 182\n",
      "182 + 28 = 210\n",
      "210 + 30 = 240\n",
      "240 + 32 = 272\n",
      "272 + 34 = 306\n",
      "306 + 36 = 342\n",
      "342 + 38 = 380\n",
      "380 + 40 = 420\n",
      "420 + 42 = 462\n",
      "462 + 44 = 506\n",
      "506 + 46 = 552\n",
      "552 + 48 = 600\n",
      "600 + 50 = 650\n",
      "650\n"
     ]
    }
   ],
   "source": [
    "sum=0\n",
    "for i in range(0,51,2):\n",
    "    print(sum,'+',i,'=',sum+i)\n",
    "    sum+=i\n",
    "print(sum)"
   ]
  }
 ],
 "metadata": {
  "kernelspec": {
   "display_name": "venv",
   "language": "python",
   "name": "python3"
  },
  "language_info": {
   "codemirror_mode": {
    "name": "ipython",
    "version": 3
   },
   "file_extension": ".py",
   "mimetype": "text/x-python",
   "name": "python",
   "nbconvert_exporter": "python",
   "pygments_lexer": "ipython3",
   "version": "3.11.0"
  }
 },
 "nbformat": 4,
 "nbformat_minor": 5
}
