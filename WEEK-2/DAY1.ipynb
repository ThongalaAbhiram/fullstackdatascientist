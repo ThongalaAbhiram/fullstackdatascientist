{
 "cells": [
  {
   "cell_type": "markdown",
   "id": "4ba2d7af",
   "metadata": {},
   "source": [
    "# Python Functions"
   ]
  },
  {
   "cell_type": "markdown",
   "id": "8d1e4ad5",
   "metadata": {},
   "source": [
    "1. Prime Number Finder\n",
    " \n",
    "   * Function that returns all prime numbers up to `n`.\n",
    "   * Input: `n = 20`\n",
    "   * Output: `[2, 3, 5, 7, 11, 13, 17, 19]`\n",
    " "
   ]
  },
  {
   "cell_type": "code",
   "execution_count": 3,
   "id": "79baaf50",
   "metadata": {},
   "outputs": [
    {
     "name": "stdout",
     "output_type": "stream",
     "text": [
      "  2  3  5  7  11  13  17  19  23  29  31  37  41  43  47"
     ]
    }
   ],
   "source": [
    "def prime(n):\n",
    "    if n < 2:\n",
    "        return False\n",
    "    for i in range(2,int(n**0.5)+1):\n",
    "        if n%i == 0:\n",
    "            return False\n",
    "    return True\n",
    "\n",
    "num1 = int(input(\"Enter Number: \"))\n",
    "for i in range(num1):\n",
    "   if prime(i):\n",
    "       print(\" \",i,end=\"\")"
   ]
  },
  {
   "cell_type": "markdown",
   "id": "a4564853",
   "metadata": {},
   "source": [
    "2. Palindrome Checker\n",
    " \n",
    "   * Check if a string is palindrome (ignoring spaces & case).\n",
    "   * Input: `\"Never odd or even\"`\n",
    "   * Output: `True`"
   ]
  },
  {
   "cell_type": "code",
   "execution_count": 6,
   "id": "44b2262e",
   "metadata": {},
   "outputs": [
    {
     "name": "stdout",
     "output_type": "stream",
     "text": [
      "True\n"
     ]
    }
   ],
   "source": [
    "def paul(str):\n",
    "    str=str.replace(\" \",\"\").lower()\n",
    "    return str[::-1] == str\n",
    "print(paul(input(\"Enter String\")))"
   ]
  },
  {
   "cell_type": "markdown",
   "id": "1534f1c9",
   "metadata": {},
   "source": [
    "3. Anagram Checker\n",
    " \n",
    "   * Function checks if two words are anagrams.\n",
    "   * Input: `\"listen\", \"silent\"`\n",
    "   * Output: `True`"
   ]
  },
  {
   "cell_type": "code",
   "execution_count": 7,
   "id": "4ce151a3",
   "metadata": {},
   "outputs": [
    {
     "name": "stdout",
     "output_type": "stream",
     "text": [
      "True\n"
     ]
    }
   ],
   "source": [
    "def is_ana(str1, str2):\n",
    "    return sorted(str1) == sorted(str2)\n",
    "print(is_ana(input(\"Enter str1: \"),input(\"Enter Str2: \")))"
   ]
  },
  {
   "cell_type": "markdown",
   "id": "e928b3e6",
   "metadata": {},
   "source": [
    "4. Count Vowels & Consonants\n",
    " \n",
    "   * Return count of vowels & consonants.\n",
    "   * Input: `\"hello\"`\n",
    "   * Output: `Vowels=2, Consonants=3`"
   ]
  },
  {
   "cell_type": "code",
   "execution_count": 8,
   "id": "ad72a718",
   "metadata": {},
   "outputs": [
    {
     "name": "stdout",
     "output_type": "stream",
     "text": [
      "Vowels : 2\n",
      "Conso:  3\n"
     ]
    }
   ],
   "source": [
    "def vowel(word):\n",
    "    if word in 'aeiou':\n",
    "        return True\n",
    "    return False\n",
    "str = input(\"Enter String: \")\n",
    "vo = 0\n",
    "co =0\n",
    "for char in str:\n",
    "    if char.isalpha():\n",
    "        if vowel(char.lower()):\n",
    "            vo+=1\n",
    "        else:\n",
    "            co+=1\n",
    "print(\"Vowels :\",vo)\n",
    "print(\"Conso: \",co)\n"
   ]
  },
  {
   "cell_type": "markdown",
   "id": "8ce13ea2",
   "metadata": {},
   "source": [
    "5. Longest Word Finder\n",
    " \n",
    "* Return longest word in a sentence.\n",
    "* Input: `\"Python is amazing\"`\n",
    "* Output: `\"amazing\"`"
   ]
  },
  {
   "cell_type": "code",
   "execution_count": 15,
   "id": "718c8b62",
   "metadata": {},
   "outputs": [
    {
     "name": "stdout",
     "output_type": "stream",
     "text": [
      "kosuhikg\n"
     ]
    }
   ],
   "source": [
    "def lon(sen):\n",
    "    words = sen.split()\n",
    "    longest = 0\n",
    "    ans=''\n",
    "    for i in range(len(words)):\n",
    "        longest = max(longest,len(words[i]))\n",
    "        if len(words[i]) == longest:\n",
    "            ans = words[i]\n",
    "    print(ans)\n",
    "lon(input(\"Enter String: \"))"
   ]
  },
  {
   "cell_type": "markdown",
   "id": "e232e490",
   "metadata": {},
   "source": [
    "# Python Modules (5 challenges)"
   ]
  },
  {
   "cell_type": "markdown",
   "id": "5bb12228",
   "metadata": {},
   "source": [
    "1. Random Password Generator (`random`, `string`)\n",
    " \n",
    "* Input: `length=6`\n",
    "* Output: `\"aB9@xQ\"`\n",
    " "
   ]
  },
  {
   "cell_type": "code",
   "execution_count": null,
   "id": "a4ac8d75",
   "metadata": {},
   "outputs": [
    {
     "name": "stdout",
     "output_type": "stream",
     "text": [
      "7ouoh>7sX8\n"
     ]
    }
   ],
   "source": [
    "import random\n",
    "import string\n",
    "\n",
    "def generate_password(length=6):\n",
    "    if length < 4:\n",
    "        return \"Password length should be at least 4 to include all character types.\"\n",
    "\n",
    "    letters = string.ascii_letters\n",
    "    digits = string.digits   \n",
    "    symbols = string.punctuation\n",
    "\n",
    "    password = [\n",
    "        random.choice(letters),\n",
    "        random.choice(digits),\n",
    "        random.choice(symbols),\n",
    "    ]\n",
    "    all_chars = letters + digits + symbols\n",
    "    password += random.choices(all_chars, k=length - len(password))\n",
    "\n",
    "    random.shuffle(password)\n",
    "\n",
    "    return ''.join(password)\n",
    "\n",
    "print(generate_password(int(input(\"Enter length: \"))))\n"
   ]
  },
  {
   "cell_type": "markdown",
   "id": "b75b9273",
   "metadata": {},
   "source": [
    "\n",
    "2. Simple Calculator with `math`\n",
    " \n",
    "* Perform sqrt, factorial, sin, cos.\n",
    "* Input: `sqrt(25)`\n",
    "* Output: `5.0`"
   ]
  },
  {
   "cell_type": "code",
   "execution_count": null,
   "id": "cfa530f2",
   "metadata": {},
   "outputs": [
    {
     "name": "stdout",
     "output_type": "stream",
     "text": [
      "2.23606797749979\n"
     ]
    }
   ],
   "source": [
    "import math\n",
    "\n",
    "n = int(input(\"ENter Number: \"))\n",
    "ch = input(\"Enter choice: \")\n",
    "match ch:\n",
    "    case 'sqrt':\n",
    "        ans = math.sqrt(n)\n",
    "    case 'fact':\n",
    "        ans = math.factorial(n)\n",
    "print(ans)\n",
    "\n"
   ]
  },
  {
   "cell_type": "markdown",
   "id": "fde53c14",
   "metadata": {},
   "source": [
    " \n",
    "3. Word Frequency Counter (`collections.Counter`)\n",
    " \n",
    "* Input: `\"cat dog cat\"`\n",
    "* Output: `{'cat':2,'dog':1}`"
   ]
  },
  {
   "cell_type": "code",
   "execution_count": 1,
   "id": "25b55b67",
   "metadata": {},
   "outputs": [
    {
     "name": "stdout",
     "output_type": "stream",
     "text": [
      "{'cat': 4, 'dog': 2, 'jerry': 1}\n"
     ]
    }
   ],
   "source": [
    "from collections import Counter\n",
    "s=input(\"Enterwords:\")\n",
    "print(dict(Counter(s.split())))"
   ]
  },
  {
   "cell_type": "markdown",
   "id": "26577244",
   "metadata": {},
   "source": [
    "4. Weather Simulator (`random`)\n",
    " \n",
    "* Input: None\n",
    "* Output: `\"Weather: Sunny, Temp: 32°C\"`"
   ]
  },
  {
   "cell_type": "code",
   "execution_count": 2,
   "id": "f03aad69",
   "metadata": {},
   "outputs": [
    {
     "name": "stdout",
     "output_type": "stream",
     "text": [
      "Weather: Windy, Temp: 34°C\n"
     ]
    }
   ],
   "source": [
    "import random\n",
    "weather = random.choice([\"Sunny\",\"Rainy\",\"Cloudy\",\"Windy\"])\n",
    "temp = random.randint(20,40)\n",
    "print(f\"Weather: {weather}, Temp: {temp}°C\")"
   ]
  },
  {
   "cell_type": "markdown",
   "id": "cb4d8059",
   "metadata": {},
   "source": [
    "5. Timer Program (`time`)\n",
    " \n",
    "* Input: `countdown(5)`\n",
    "* Output:\n",
    " \n",
    "  ```\n",
    "  5  \n",
    "  4  \n",
    "  3  \n",
    "  2  \n",
    "  1  \n",
    "  Time’s up!\n",
    "  ```"
   ]
  },
  {
   "cell_type": "code",
   "execution_count": 3,
   "id": "85516b66",
   "metadata": {},
   "outputs": [
    {
     "name": "stdout",
     "output_type": "stream",
     "text": [
      "5\n",
      "4\n",
      "3\n",
      "2\n",
      "1\n",
      "Time’s up!\n"
     ]
    }
   ],
   "source": [
    "import time\n",
    "def countdown(n):\n",
    "    while n > 0:\n",
    "        print(n)\n",
    "        time.sleep(1)\n",
    "        n -= 1\n",
    "    print(\"Time’s up!\")\n",
    "countdown(int(input(\"EnterTimeer\")))"
   ]
  },
  {
   "cell_type": "markdown",
   "id": "3a259a7e",
   "metadata": {},
   "source": [
    "# Python OOPs (5 challenges)"
   ]
  },
  {
   "cell_type": "markdown",
   "id": "aa6d0c30",
   "metadata": {},
   "source": [
    "1. Bank Account Class\n",
    " \n",
    "Attributes:\n",
    " \n",
    "* `balance` → stores the current money in the account\n",
    "* `owner` (optional) → name of account holder\n",
    " \n",
    "Methods:\n",
    " \n",
    "* `deposit(amount)` → adds money to balance\n",
    "* `withdraw(amount)` → subtracts money if enough funds\n",
    "* `get_balance()` → returns balance\n",
    " \n",
    "Example:\n",
    " \n",
    "```python\n",
    "acc = BankAccount(100)   # initial balance = 100\n",
    "acc.deposit(50)          # balance = 150\n",
    "acc.withdraw(30)         # balance = 120\n",
    "print(acc.get_balance())\n",
    "```\n",
    " \n",
    "Output:\n",
    " \n",
    "```\n",
    "Balance: 120\n",
    "```\n",
    " \n",
    "---"
   ]
  },
  {
   "cell_type": "code",
   "execution_count": 4,
   "id": "a277ad98",
   "metadata": {},
   "outputs": [
    {
     "name": "stdout",
     "output_type": "stream",
     "text": [
      "Balance: 120\n"
     ]
    }
   ],
   "source": [
    "class BankAccount:\n",
    "    def __init__(self, balance, owner=None):\n",
    "        self.balance = balance\n",
    "        self.owner = owner\n",
    "    def deposit(self, amount):\n",
    "        self.balance += amount\n",
    "    def withdraw(self, amount):\n",
    "        if amount <= self.balance:\n",
    "            self.balance -= amount\n",
    "    def get_balance(self):\n",
    "        return f\"Balance: {self.balance}\"\n",
    "\n",
    "acc = BankAccount(100)\n",
    "acc.deposit(int(input(\"EnterDeposit\")))\n",
    "acc.withdraw(int(input(\"Enter withdraw: \")))\n",
    "print(acc.get_balance())\n"
   ]
  },
  {
   "cell_type": "markdown",
   "id": "75eda487",
   "metadata": {},
   "source": [
    " \n",
    "2. Student Class with Average\n",
    " \n",
    "Attributes:\n",
    " \n",
    "* `name` → student name\n",
    "* `marks` → list of student marks `[90, 80, 85]`\n",
    " \n",
    "Methods:\n",
    " \n",
    "* `get_average()` → returns average marks\n",
    "* `add_mark(mark)` → add new score\n",
    "* `get_highest()` → return highest mark\n",
    "* `get_lowest()` → return lowest mark\n",
    " \n",
    "Example:\n",
    " \n",
    "```python\n",
    "s = Student(\"Tom\", [90, 80, 85])\n",
    "print(s.get_average())   # (90+80+85)/3 = 85.0\n",
    "s.add_mark(95)           # marks = [90,80,85,95]\n",
    "print(s.get_highest())   # 95\n",
    "```\n",
    " \n",
    "Output:\n",
    " \n",
    "```\n",
    "85.0\n",
    "95\n",
    "```\n",
    " \n",
    "---\n",
    " "
   ]
  },
  {
   "cell_type": "code",
   "execution_count": 5,
   "id": "b216a37e",
   "metadata": {},
   "outputs": [
    {
     "name": "stdout",
     "output_type": "stream",
     "text": [
      "85.0\n",
      "95\n"
     ]
    }
   ],
   "source": [
    "class Student:\n",
    "    def __init__(self, name, marks):\n",
    "        self.name = name\n",
    "        self.marks = marks\n",
    "    def get_average(self):\n",
    "        return sum(self.marks) / len(self.marks)\n",
    "    def add_mark(self, mark):\n",
    "        self.marks.append(mark)\n",
    "    def get_highest(self):\n",
    "        return max(self.marks)\n",
    "    def get_lowest(self):\n",
    "        return min(self.marks)\n",
    "\n",
    "s = Student(\"Tom\", [90, 80, 85])\n",
    "print(s.get_average())\n",
    "s.add_mark(95)\n",
    "print(s.get_highest())"
   ]
  },
  {
   "cell_type": "markdown",
   "id": "53947d79",
   "metadata": {},
   "source": [
    "3. Employee Bonus System\n",
    " \n",
    "Attributes:\n",
    " \n",
    "* `name` → employee name\n",
    "* `salary` → base salary\n",
    "* `role` → role of employee (e.g., Manager, Developer, Intern)\n",
    " \n",
    "Methods:\n",
    " \n",
    "* `bonus()` → calculates bonus depending on role:\n",
    " \n",
    "  * Manager → 20% of salary\n",
    "  * Developer → 10% of salary\n",
    "  * Intern → 5% of salary\n",
    " \n",
    "Example:\n",
    " \n",
    "```python\n",
    "m = Manager(\"Alice\", 50000)\n",
    "print(m.bonus())\n",
    "```\n",
    " \n",
    "Output:\n",
    " \n",
    "```\n",
    "10000\n",
    "```\n",
    " \n",
    "---"
   ]
  },
  {
   "cell_type": "code",
   "execution_count": 6,
   "id": "d9eaf333",
   "metadata": {},
   "outputs": [
    {
     "name": "stdout",
     "output_type": "stream",
     "text": [
      "10000\n"
     ]
    }
   ],
   "source": [
    "class Employee:\n",
    "    def __init__(self, name, salary, role):\n",
    "        self.name = name\n",
    "        self.salary = salary\n",
    "        self.role = role\n",
    "    def bonus(self):\n",
    "        rates = {\"Manager\": 0.20, \"Developer\": 0.10, \"Intern\": 0.05}\n",
    "        return int(self.salary * rates.get(self.role, 0))\n",
    "\n",
    "class Manager(Employee):\n",
    "    def __init__(self, name, salary):\n",
    "        super().__init__(name, salary, \"Manager\")\n",
    "\n",
    "class Developer(Employee):\n",
    "    def __init__(self, name, salary):\n",
    "        super().__init__(name, salary, \"Developer\")\n",
    "\n",
    "class Intern(Employee):\n",
    "    def __init__(self, name, salary):\n",
    "        super().__init__(name, salary, \"Intern\")\n",
    "\n",
    "m = Manager(\"Alice\", 50000)\n",
    "print(m.bonus())"
   ]
  },
  {
   "cell_type": "markdown",
   "id": "62c35575",
   "metadata": {},
   "source": [
    "4. Shape Area Calculator\n",
    " \n",
    "Base Class (Shape):\n",
    " \n",
    "*Attribute: `name`\n",
    "*Method: `area()` → to be overridden by subclasses\n",
    " \n",
    "Subclasses:\n",
    " \n",
    "* `Circle(radius)` → area = π × r²\n",
    "* `Rectangle(width, height)` → area = width × height\n",
    " \n",
    "Example:\n",
    " \n",
    "```python\n",
    "c = Circle(7)\n",
    "print(c.area())\n",
    "r = Rectangle(4, 5)\n",
    "print(r.area())\n",
    "```\n",
    " \n",
    "Output:\n",
    " \n",
    "```\n",
    "153.94\n",
    "20\n",
    "```\n",
    " \n",
    "---"
   ]
  },
  {
   "cell_type": "code",
   "execution_count": 7,
   "id": "56b05efd",
   "metadata": {},
   "outputs": [
    {
     "name": "stdout",
     "output_type": "stream",
     "text": [
      "153.94\n",
      "20\n"
     ]
    }
   ],
   "source": [
    "import math\n",
    "class Shape:\n",
    "    def __init__(self, name):\n",
    "        self.name = name\n",
    "    def area(self):\n",
    "        pass\n",
    "\n",
    "class Circle(Shape):\n",
    "    def __init__(self, radius):\n",
    "        super().__init__(\"Circle\")\n",
    "        self.radius = radius\n",
    "    def area(self):\n",
    "        return round(math.pi * self.radius ** 2, 2)\n",
    "\n",
    "class Rectangle(Shape):\n",
    "    def __init__(self, width, height):\n",
    "        super().__init__(\"Rectangle\")\n",
    "        self.width = width\n",
    "        self.height = height\n",
    "    def area(self):\n",
    "        return self.width * self.height\n",
    "\n",
    "c = Circle(7)\n",
    "print(c.area())\n",
    "r = Rectangle(4, 5)\n",
    "print(r.area())"
   ]
  },
  {
   "cell_type": "markdown",
   "id": "bdf83e21",
   "metadata": {},
   "source": [
    "5. E-commerce Order Class\n",
    " \n",
    "Attributes:\n",
    " \n",
    "* `items` → dictionary of items `{name: price}`\n",
    " \n",
    "Methods:\n",
    " \n",
    "* `add(item, price)` → adds an item to order\n",
    "* `remove(item)` → removes item\n",
    "* `calculate_total()` → returns total price of all items\n",
    "* `show_items()` → lists all items in order\n",
    " \n",
    "Example:\n",
    " \n",
    "```python\n",
    "order = Order()\n",
    "order.add(\"Shirt\", 500)\n",
    "order.add(\"Shoes\", 1500)\n",
    "print(order.calculate_total())\n",
    "```\n",
    " \n",
    "Output:\n",
    " \n",
    "```\n",
    "Total = 2000\n",
    "```"
   ]
  },
  {
   "cell_type": "code",
   "execution_count": 8,
   "id": "25b560bb",
   "metadata": {},
   "outputs": [
    {
     "name": "stdout",
     "output_type": "stream",
     "text": [
      "Total = 2000\n"
     ]
    }
   ],
   "source": [
    "class Order:\n",
    "    def __init__(self):\n",
    "        self.items = {}\n",
    "    def add(self, item, price):\n",
    "        self.items[item] = price\n",
    "    def remove(self, item):\n",
    "        if item in self.items:\n",
    "            del self.items[item]\n",
    "    def calculate_total(self):\n",
    "        return f\"Total = {sum(self.items.values())}\"\n",
    "    def show_items(self):\n",
    "        return list(self.items.keys())\n",
    "\n",
    "order = Order()\n",
    "order.add(\"Shirt\", 500)\n",
    "order.add(\"Shoes\", 1500)\n",
    "print(order.calculate_total())\n"
   ]
  },
  {
   "cell_type": "markdown",
   "id": "265bb885",
   "metadata": {},
   "source": [
    "# Python Functions"
   ]
  },
  {
   "cell_type": "markdown",
   "id": "60f204c4",
   "metadata": {},
   "source": [
    "1. Fibonacci Generator\n",
    " \n",
    "* Function generates `n` Fibonacci numbers.\n",
    " \n",
    "* Input: `n = 7`\n",
    " \n",
    "* Output: `[0, 1, 1, 2, 3, 5, 8]`"
   ]
  },
  {
   "cell_type": "code",
   "execution_count": 9,
   "id": "18b00dc0",
   "metadata": {},
   "outputs": [
    {
     "name": "stdout",
     "output_type": "stream",
     "text": [
      "[0, 1, 1, 2, 3, 5, 8]\n"
     ]
    }
   ],
   "source": [
    "def fibonacci(n):\n",
    "    fib = [0, 1]\n",
    "    for i in range(2, n):\n",
    "        fib.append(fib[-1] + fib[-2])\n",
    "    return fib[:n]\n",
    "\n",
    "print(fibonacci(int(input())))"
   ]
  },
  {
   "cell_type": "markdown",
   "id": "37125fc8",
   "metadata": {},
   "source": [
    "2. Factorial Using Recursion\n",
    " \n",
    "* Compute factorial using recursion.\n",
    " \n",
    "* Input: `5`\n",
    " \n",
    "* Output: `120`"
   ]
  },
  {
   "cell_type": "code",
   "execution_count": 10,
   "id": "c7acbfe8",
   "metadata": {},
   "outputs": [
    {
     "name": "stdout",
     "output_type": "stream",
     "text": [
      "120\n"
     ]
    }
   ],
   "source": [
    "def factorial(n):\n",
    "    if n == 0 or n == 1:\n",
    "        return 1\n",
    "    return n * factorial(n - 1)\n",
    "\n",
    "print(factorial(int(input())))\n"
   ]
  },
  {
   "cell_type": "markdown",
   "id": "a363bcb2",
   "metadata": {},
   "source": [
    "3. Unique Words Counter\n",
    " \n",
    "* Return unique words in a sentence.\n",
    " \n",
    "* Input: `\"apple banana apple orange banana\"`\n",
    " \n",
    "* Output: `{'apple':2,'banana':2,'orange':1}`"
   ]
  },
  {
   "cell_type": "code",
   "execution_count": 11,
   "id": "a3cd9a8a",
   "metadata": {},
   "outputs": [
    {
     "name": "stdout",
     "output_type": "stream",
     "text": [
      "{'cat': 3, 'dog': 2, 'jerry': 1}\n"
     ]
    }
   ],
   "source": [
    "from collections import Counter\n",
    "def unique_words(sentence):\n",
    "    return dict(Counter(sentence.split()))\n",
    "\n",
    "print(unique_words(input()))"
   ]
  },
  {
   "cell_type": "markdown",
   "id": "8dc5d764",
   "metadata": {},
   "source": [
    "4. Grade Calculator\n",
    " \n",
    "* Function takes marks and returns grade.\n",
    " \n",
    "* Input: `[85, 90, 78]`\n",
    " \n",
    "* Output: `\"Grade: A\"`"
   ]
  },
  {
   "cell_type": "code",
   "execution_count": 3,
   "id": "c5e1b746",
   "metadata": {},
   "outputs": [
    {
     "name": "stdout",
     "output_type": "stream",
     "text": [
      "Grade: B\n"
     ]
    }
   ],
   "source": [
    "def grade_calculator(marks):\n",
    "    avg = sum(marks) / len(marks)\n",
    "    if avg >= 85:\n",
    "        return \"Grade: A\"\n",
    "    if avg >= 70:\n",
    "        return \"Grade: B\"\n",
    "    if avg >= 50:\n",
    "        return \"Grade: C\"\n",
    "    return \"Grade: F\"\n",
    "\n",
    "print(grade_calculator(list(map(int, input().split(\",\")))))\n"
   ]
  },
  {
   "cell_type": "markdown",
   "id": "30cc9bdd",
   "metadata": {},
   "source": [
    "5. Second Largest Number\n",
    " \n",
    "* Return 2nd largest number from a list.\n",
    " \n",
    "* Input: `[10, 5, 20, 8]`\n",
    " \n",
    "* Output: `10`"
   ]
  },
  {
   "cell_type": "code",
   "execution_count": 4,
   "id": "0614e7a3",
   "metadata": {},
   "outputs": [
    {
     "name": "stdout",
     "output_type": "stream",
     "text": [
      "80\n"
     ]
    }
   ],
   "source": [
    "def seconf_large(le):\n",
    "    so = sorted(le)\n",
    "    return so[len(so)-2]\n",
    "print(seconf_large(list(map(int, input().split(\",\")))))"
   ]
  },
  {
   "cell_type": "markdown",
   "id": "10c86c5f",
   "metadata": {},
   "source": [
    " \n",
    "## Python Modules ( 5 challenges)"
   ]
  },
  {
   "cell_type": "markdown",
   "id": "f5eecda2",
   "metadata": {},
   "source": [
    "1. `os` → Count Files by Extension\n",
    " \n",
    "Write a program using `os` to count how many `.txt` and `.py` files are in the current directory.\n",
    " \n",
    "Sample Input (files in folder):\n",
    " \n",
    "```\n",
    " \n",
    "[\"notes.txt\", \"app.py\", \"data.csv\", \"report.txt\", \"main.py\"]\n",
    " \n",
    "```\n",
    " \n",
    "Sample Output:\n",
    " \n",
    "```\n",
    " \n",
    "Text files: 2\n",
    " \n",
    "Python files: 2\n",
    " \n",
    "```\n",
    " \n",
    "---"
   ]
  },
  {
   "cell_type": "code",
   "execution_count": 6,
   "id": "b74b7533",
   "metadata": {},
   "outputs": [
    {
     "name": "stdout",
     "output_type": "stream",
     "text": [
      "Number of .txt files: 0\n",
      "Number of .py files: 1\n"
     ]
    }
   ],
   "source": [
    "import os\n",
    "\n",
    "txt_count = 0\n",
    "py_count = 0\n",
    "\n",
    "files = os.listdir('.')\n",
    "\n",
    "for file in files:\n",
    "    if os.path.isfile(file):  \n",
    "        if file.endswith('.txt'):\n",
    "            txt_count += 1\n",
    "        elif file.endswith('.py'):\n",
    "            py_count += 1\n",
    "\n",
    "print(f\"Number of .txt files: {txt_count}\")\n",
    "print(f\"Number of .py files: {py_count}\")\n"
   ]
  },
  {
   "cell_type": "markdown",
   "id": "b9334ed0",
   "metadata": {},
   "source": [
    "2. `statistics` → Exam Score Analysis\n",
    " \n",
    "Use `statistics` to calculate the mean, median, and variance of student exam scores.\n",
    " \n",
    "Sample Input:\n",
    " \n",
    "```\n",
    " \n",
    "Scores = [75, 80, 90, 100, 85, 90, 95]\n",
    " \n",
    "```\n",
    " \n",
    "Sample Output:\n",
    " \n",
    "```\n",
    " \n",
    "Mean = 88.57\n",
    " \n",
    "Median = 90\n",
    " \n",
    "Variance = 71.43\n",
    " \n",
    "```\n",
    " \n",
    "---"
   ]
  },
  {
   "cell_type": "code",
   "execution_count": 7,
   "id": "e7aaca96",
   "metadata": {},
   "outputs": [
    {
     "name": "stdout",
     "output_type": "stream",
     "text": [
      "Mean = 80.71\n",
      "Median = 80\n",
      "Variance = 36.9\n"
     ]
    }
   ],
   "source": [
    "import statistics\n",
    "scores = list(map(int, input().split(\",\")))\n",
    "print(f\"Mean = {round(statistics.mean(scores),2)}\")\n",
    "print(f\"Median = {statistics.median(scores)}\")\n",
    "print(f\"Variance = {round(statistics.variance(scores),2)}\")"
   ]
  },
  {
   "cell_type": "markdown",
   "id": "9c356a23",
   "metadata": {},
   "source": [
    "3. `math` → Quadratic Equation Solver\n",
    " \n",
    "Use the `math` module to solve quadratic equations of the form `ax² + bx + c = 0`.\n",
    " \n",
    "Sample Input:\n",
    " \n",
    "```\n",
    " \n",
    "a = 1, b = -3, c = 2\n",
    " \n",
    "```\n",
    " \n",
    "Sample Output:\n",
    " \n",
    "```\n",
    " \n",
    "Roots are: 1.0 and 2.0\n",
    " \n",
    "```\n",
    " \n",
    "---"
   ]
  },
  {
   "cell_type": "code",
   "execution_count": 8,
   "id": "11cfae2f",
   "metadata": {},
   "outputs": [
    {
     "name": "stdout",
     "output_type": "stream",
     "text": [
      "Roots are: 2.0 and 1.0\n"
     ]
    }
   ],
   "source": [
    "import math\n",
    "a, b, c = map(int, input().split(\",\"))\n",
    "d = math.sqrt(b**2 - 4*a*c)\n",
    "r1 = (-b + d) / (2 * a)\n",
    "r2 = (-b - d) / (2 * a)\n",
    "print(f\"Roots are: {r1} and {r2}\")\n"
   ]
  },
  {
   "cell_type": "markdown",
   "id": "6e3057b2",
   "metadata": {},
   "source": [
    "4. `random` → Rock Paper Scissors Game\n",
    " \n",
    "Use `random.choice()` to let the computer play Rock–Paper–Scissors against the user.\n",
    " \n",
    "Sample Input:\n",
    " \n",
    "```\n",
    " \n",
    "User: Rock\n",
    " \n",
    "Computer (random): Scissors\n",
    " \n",
    "```\n",
    " \n",
    "Sample Output:\n",
    " \n",
    "```\n",
    " \n",
    "You chose Rock, Computer chose Scissors\n",
    " \n",
    "You Win!\n",
    " \n",
    "```\n",
    " \n",
    "---"
   ]
  },
  {
   "cell_type": "code",
   "execution_count": 10,
   "id": "197d91db",
   "metadata": {},
   "outputs": [
    {
     "name": "stdout",
     "output_type": "stream",
     "text": [
      "You chose Rock, Computer chose Paper\n",
      "You Lose!\n"
     ]
    }
   ],
   "source": [
    "import random\n",
    "user = input().capitalize()\n",
    "computer = random.choice([\"Rock\", \"Paper\", \"Scissors\"])\n",
    "print(f\"You chose {user}, Computer chose {computer}\")\n",
    "if user == computer:\n",
    "    print(\"It's a Tie!\")\n",
    "elif (user == \"Rock\" and computer == \"Scissors\") or (user == \"Paper\" and computer == \"Rock\") or (user == \"Scissors\" and computer == \"Paper\"):\n",
    "    print(\"You Win!\")\n",
    "else:\n",
    "    print(\"You Lose!\")\n"
   ]
  },
  {
   "cell_type": "markdown",
   "id": "cb9647b5",
   "metadata": {},
   "source": [
    "5. `sys` → Sum from Command Line\n",
    " \n",
    "Write a program using `sys.argv` to take three numbers from the command line and print their sum.\n",
    " \n",
    "Sample Input (command line):\n",
    " \n",
    "```\n",
    " \n",
    "python add.py 5 10 15\n",
    " \n",
    "```\n",
    " \n",
    "Sample Output:\n",
    " \n",
    "```\n",
    " \n",
    "Sum = 30\n",
    " \n",
    "```"
   ]
  },
  {
   "cell_type": "code",
   "execution_count": 14,
   "id": "3abbdde8",
   "metadata": {},
   "outputs": [
    {
     "name": "stdout",
     "output_type": "stream",
     "text": [
      "Sum = 0\n"
     ]
    }
   ],
   "source": [
    "import sys\n",
    "args = sys.argv[1:4]\n",
    "total = sum(int(x) for x in args if x.isdigit())\n",
    "print(f\"Sum = {total}\")\n"
   ]
  },
  {
   "cell_type": "markdown",
   "id": "c94e92b8",
   "metadata": {},
   "source": [
    "# Python OOPs (5 challenges)"
   ]
  },
  {
   "cell_type": "markdown",
   "id": "fcdab7f0",
   "metadata": {},
   "source": [
    "### 1. Library System\n",
    " \n",
    "Create a `Library` class with:\n",
    " \n",
    "*Attributes: `books` (dict with book title → copies available)\n",
    " \n",
    "*Methods:\n",
    " \n",
    "* `borrow(title)` → decreases stock if available\n",
    " \n",
    "* `return_book(title)` → increases stock\n",
    " \n",
    "* `show_books()` → prints all available books\n",
    " \n",
    "Sample Input:\n",
    " \n",
    "```python\n",
    " \n",
    "lib = Library({\"Python 101\": 3, \"Data Science\": 2})\n",
    " \n",
    "print(lib.borrow(\"Python 101\"))\n",
    " \n",
    "print(lib.return_book(\"Python 101\"))\n",
    " \n",
    "lib.show_books()\n",
    " \n",
    "```\n",
    " \n",
    "Sample Output:\n",
    " \n",
    "```\n",
    " \n",
    "You borrowed Python 101\n",
    " \n",
    "You returned Python 101\n",
    " \n",
    "Available books: {'Python 101': 3, 'Data Science': 2}\n",
    " \n",
    "```\n",
    " \n",
    "---"
   ]
  },
  {
   "cell_type": "code",
   "execution_count": 16,
   "id": "800538ad",
   "metadata": {},
   "outputs": [
    {
     "name": "stdout",
     "output_type": "stream",
     "text": [
      "You borrowed Python 101\n",
      "Available books: {'Python 101': 2, 'Data Science': 2}\n",
      "You returned Python 101\n",
      "Available books: {'Python 101': 3, 'Data Science': 2}\n"
     ]
    }
   ],
   "source": [
    "class Library:\n",
    "    def __init__(self, books):\n",
    "        self.books = books\n",
    "    def borrow(self, title):\n",
    "        if self.books.get(title, 0) > 0:\n",
    "            self.books[title] -= 1\n",
    "            return f\"You borrowed {title}\"\n",
    "        return f\"{title} not available\"\n",
    "    def return_book(self, title):\n",
    "        if title in self.books:\n",
    "            self.books[title] += 1\n",
    "        else:\n",
    "            self.books[title] = 1\n",
    "        return f\"You returned {title}\"\n",
    "    def show_books(self):\n",
    "        print(f\"Available books: {self.books}\")\n",
    "\n",
    "lib = Library({\"Python 101\": 3, \"Data Science\": 2})\n",
    "print(lib.borrow(\"Python 101\"))\n",
    "lib.show_books()\n",
    "print(lib.return_book(\"Python 101\"))\n",
    "lib.show_books()\n"
   ]
  },
  {
   "cell_type": "markdown",
   "id": "fa09c833",
   "metadata": {},
   "source": [
    "### 2. ATM Machine with PIN\n",
    " \n",
    "Create an `ATM` class with:\n",
    " \n",
    "*Attributes: `balance`, `pin`, `is_authenticated`\n",
    " \n",
    "*Methods:\n",
    " \n",
    "* `login(pin)` → checks PIN\n",
    " \n",
    "* `check_balance()`\n",
    " \n",
    "* `deposit(amount)`\n",
    " \n",
    "* `withdraw(amount)`\n",
    " \n",
    "Sample Input:\n",
    " \n",
    "```python\n",
    " \n",
    "atm = ATM(1234, 500)\n",
    " \n",
    "print(atm.login(1234))\n",
    " \n",
    "print(atm.deposit(200))\n",
    " \n",
    "print(atm.withdraw(100))\n",
    " \n",
    "print(atm.check_balance())\n",
    " \n",
    "```\n",
    " \n",
    "Sample Output:\n",
    " \n",
    "```\n",
    " \n",
    "Access Granted\n",
    " \n",
    "Deposited 200\n",
    " \n",
    "Withdrew 100\n",
    " \n",
    "Balance: 600\n",
    " \n",
    "```\n",
    " \n",
    "---"
   ]
  },
  {
   "cell_type": "code",
   "execution_count": 17,
   "id": "cee8fe34",
   "metadata": {},
   "outputs": [
    {
     "name": "stdout",
     "output_type": "stream",
     "text": [
      "Access Granted\n",
      "Deposited 200\n",
      "Withdrew 100\n",
      "Balance: 600\n"
     ]
    }
   ],
   "source": [
    "class ATM:\n",
    "    def __init__(self, pin, balance):\n",
    "        self.pin = pin\n",
    "        self.balance = balance\n",
    "        self.is_authenticated = False\n",
    "    def login(self, pin):\n",
    "        if pin == self.pin:\n",
    "            self.is_authenticated = True\n",
    "            return \"Access Granted\"\n",
    "        return \"Access Denied\"\n",
    "    def check_balance(self):\n",
    "        if self.is_authenticated:\n",
    "            return f\"Balance: {self.balance}\"\n",
    "    def deposit(self, amount):\n",
    "        if self.is_authenticated:\n",
    "            self.balance += amount\n",
    "            return f\"Deposited {amount}\"\n",
    "    def withdraw(self, amount):\n",
    "        if self.is_authenticated:\n",
    "            if amount <= self.balance:\n",
    "                self.balance -= amount\n",
    "                return f\"Withdrew {amount}\"\n",
    "            return \"Insufficient balance\"\n",
    "\n",
    "atm = ATM(1234, 500)\n",
    "print(atm.login(1234))\n",
    "print(atm.deposit(200))\n",
    "print(atm.withdraw(100))\n",
    "print(atm.check_balance())"
   ]
  },
  {
   "cell_type": "markdown",
   "id": "1b369680",
   "metadata": {},
   "source": [
    "3. University System\n",
    " \n",
    "Create `Professor` and `Student` classes.\n",
    " \n",
    "*Professor Attributes: `name`, `subject`\n",
    " \n",
    "*Professor Methods: `teach(course)`, `give_assignment(task)`\n",
    " \n",
    "*Student Attributes: `name`, `courses`, `assignments`\n",
    " \n",
    "*Student Methods: `enroll(course)`, `submit_assignment(task)`\n",
    " \n",
    "Sample Input:\n",
    " \n",
    "```python\n",
    " \n",
    "prof = Professor(\"Dr. Smith\", \"Computer Science\")\n",
    " \n",
    "stud = Student(\"Alice\")\n",
    " \n",
    "print(prof.teach(\"Python\"))\n",
    " \n",
    "print(stud.enroll(\"Python\"))\n",
    " \n",
    "print(prof.give_assignment(\"Project 1\"))\n",
    " \n",
    "print(stud.submit_assignment(\"Project 1\"))\n",
    " \n",
    "```\n",
    " \n",
    "Sample Output:\n",
    " \n",
    "```\n",
    " \n",
    "Dr. Smith is teaching Python\n",
    " \n",
    "Alice enrolled in Python\n",
    " \n",
    "Dr. Smith assigned: Project 1\n",
    " \n",
    "Alice submitted: Project 1\n",
    " \n",
    "```\n",
    " \n",
    "---"
   ]
  },
  {
   "cell_type": "code",
   "execution_count": 18,
   "id": "46a1d41f",
   "metadata": {},
   "outputs": [
    {
     "name": "stdout",
     "output_type": "stream",
     "text": [
      "Dr. Smith is teaching Python\n",
      "Alice enrolled in Python\n",
      "Dr. Smith assigned: Project 1\n",
      "Alice submitted: Project 1\n"
     ]
    }
   ],
   "source": [
    "class Professor:\n",
    "    def __init__(self, name, subject):\n",
    "        self.name = name\n",
    "        self.subject = subject\n",
    "    def teach(self, course):\n",
    "        return f\"{self.name} is teaching {course}\"\n",
    "    def give_assignment(self, task):\n",
    "        return f\"{self.name} assigned: {task}\"\n",
    "\n",
    "class Student:\n",
    "    def __init__(self, name):\n",
    "        self.name = name\n",
    "        self.courses = []\n",
    "        self.assignments = []\n",
    "    def enroll(self, course):\n",
    "        self.courses.append(course)\n",
    "        return f\"{self.name} enrolled in {course}\"\n",
    "    def submit_assignment(self, task):\n",
    "        self.assignments.append(task)\n",
    "        return f\"{self.name} submitted: {task}\"\n",
    "\n",
    "prof = Professor(\"Dr. Smith\", \"Computer Science\")\n",
    "stud = Student(\"Alice\")\n",
    "print(prof.teach(\"Python\"))\n",
    "print(stud.enroll(\"Python\"))\n",
    "print(prof.give_assignment(\"Project 1\"))\n",
    "print(stud.submit_assignment(\"Project 1\"))\n"
   ]
  },
  {
   "cell_type": "markdown",
   "id": "d272e47b",
   "metadata": {},
   "source": [
    "### 4. Movie Ticket Booking\n",
    " \n",
    "Create a `Cinema` class with:\n",
    " \n",
    "*Attributes: `movies` (dict → movie: seats available)\n",
    " \n",
    "*Methods:\n",
    " \n",
    "* `book(movie, seats)` → reduces seat count\n",
    " \n",
    "* `cancel(movie, seats)` → adds back seats\n",
    " \n",
    "* `show_movies()` → shows available seats\n",
    " \n",
    "Sample Input:\n",
    " \n",
    "```python\n",
    " \n",
    "cinema = Cinema({\"Avatar\": 10, \"Batman\": 5})\n",
    " \n",
    "print(cinema.book(\"Avatar\", 2))\n",
    " \n",
    "print(cinema.cancel(\"Avatar\", 1))\n",
    " \n",
    "cinema.show_movies()\n",
    " \n",
    "```\n",
    " \n",
    "Sample Output:\n",
    " \n",
    "```\n",
    " \n",
    "Booked 2 tickets for Avatar\n",
    " \n",
    "Cancelled 1 ticket for Avatar\n",
    " \n",
    "Movies: {'Avatar': 9, 'Batman': 5}\n",
    " \n",
    "```\n",
    " \n",
    "---\n",
    " "
   ]
  },
  {
   "cell_type": "code",
   "execution_count": 19,
   "id": "f74d3002",
   "metadata": {},
   "outputs": [
    {
     "name": "stdout",
     "output_type": "stream",
     "text": [
      "Booked 2 tickets for Avatar\n",
      "Cancelled 1 ticket for Avatar\n",
      "Movies: {'Avatar': 9, 'Batman': 5}\n"
     ]
    }
   ],
   "source": [
    "class Cinema:\n",
    "    def __init__(self, movies):\n",
    "        self.movies = movies\n",
    "    def book(self, movie, seats):\n",
    "        if self.movies.get(movie, 0) >= seats:\n",
    "            self.movies[movie] -= seats\n",
    "            return f\"Booked {seats} tickets for {movie}\"\n",
    "        return f\"Not enough seats for {movie}\"\n",
    "    def cancel(self, movie, seats):\n",
    "        if movie in self.movies:\n",
    "            self.movies[movie] += seats\n",
    "            return f\"Cancelled {seats} ticket for {movie}\"\n",
    "        return f\"{movie} not found\"\n",
    "    def show_movies(self):\n",
    "        print(f\"Movies: {self.movies}\")\n",
    "\n",
    "cinema = Cinema({\"Avatar\": 10, \"Batman\": 5})\n",
    "print(cinema.book(\"Avatar\", 2))\n",
    "print(cinema.cancel(\"Avatar\", 1))\n",
    "cinema.show_movies()\n"
   ]
  },
  {
   "cell_type": "markdown",
   "id": "fd500af6",
   "metadata": {},
   "source": [
    "### 5. Restaurant Menu\n",
    " \n",
    "Create a `Menu` class with:\n",
    " \n",
    "*Attributes: `items` (dict → item: price)\n",
    " \n",
    "*Methods:\n",
    " \n",
    "* `add_item(name, price)`\n",
    " \n",
    "* `remove_item(name)`\n",
    " \n",
    "* `update_price(name, new_price)`\n",
    " \n",
    "* `show_menu()`\n",
    " \n",
    "Sample Input:\n",
    " \n",
    "```python\n",
    " \n",
    "menu = Menu()\n",
    " \n",
    "print(menu.add_item(\"Burger\", 100))\n",
    " \n",
    "print(menu.add_item(\"Pizza\", 200))\n",
    " \n",
    "print(menu.update_price(\"Pizza\", 250))\n",
    " \n",
    "print(menu.remove_item(\"Burger\"))\n",
    " \n",
    "menu.show_menu()\n",
    " \n",
    "```\n",
    " \n",
    "Sample Output:\n",
    " \n",
    "```\n",
    " \n",
    "Burger added\n",
    " \n",
    "Pizza added\n",
    " \n",
    "Pizza price updated to 250\n",
    " \n",
    "Burger removed\n",
    " \n",
    "Menu: {'Pizza': 250}\n",
    " \n",
    "```"
   ]
  },
  {
   "cell_type": "code",
   "execution_count": 20,
   "id": "859b905f",
   "metadata": {},
   "outputs": [
    {
     "name": "stdout",
     "output_type": "stream",
     "text": [
      "Burger added\n",
      "Pizza added\n",
      "Pizza price updated to 250\n",
      "Burger removed\n",
      "Menu: {'Pizza': 250}\n"
     ]
    }
   ],
   "source": [
    "class Menu:\n",
    "    def __init__(self):\n",
    "        self.items = {}\n",
    "    def add_item(self, name, price):\n",
    "        self.items[name] = price\n",
    "        return f\"{name} added\"\n",
    "    def remove_item(self, name):\n",
    "        if name in self.items:\n",
    "            del self.items[name]\n",
    "            return f\"{name} removed\"\n",
    "        return f\"{name} not found\"\n",
    "    def update_price(self, name, new_price):\n",
    "        if name in self.items:\n",
    "            self.items[name] = new_price\n",
    "            return f\"{name} price updated to {new_price}\"\n",
    "        return f\"{name} not found\"\n",
    "    def show_menu(self):\n",
    "        print(f\"Menu: {self.items}\")\n",
    "\n",
    "menu = Menu()\n",
    "print(menu.add_item(\"Burger\", 100))\n",
    "print(menu.add_item(\"Pizza\", 200))\n",
    "print(menu.update_price(\"Pizza\", 250))\n",
    "print(menu.remove_item(\"Burger\"))\n",
    "menu.show_menu()"
   ]
  }
 ],
 "metadata": {
  "kernelspec": {
   "display_name": "Python 3",
   "language": "python",
   "name": "python3"
  },
  "language_info": {
   "codemirror_mode": {
    "name": "ipython",
    "version": 3
   },
   "file_extension": ".py",
   "mimetype": "text/x-python",
   "name": "python",
   "nbconvert_exporter": "python",
   "pygments_lexer": "ipython3",
   "version": "3.11.0"
  }
 },
 "nbformat": 4,
 "nbformat_minor": 5
}
